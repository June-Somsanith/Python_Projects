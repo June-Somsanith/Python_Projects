{
 "cells": [
  {
   "cell_type": "code",
   "execution_count": null,
   "id": "64d08e58",
   "metadata": {},
   "outputs": [],
   "source": [
    "# 34.1 Assign variables, mathematical operations\n",
    "\n",
    "# Create a solution that accepts three integer inputs representing the number of times an employee travels to a job site.\n",
    "# Output the total distance traveled to two decimal places given the following miles per employee commute to the job site. Output the total distance traveled to two decimal places given the following miles per employee commute to the job site:\n",
    "# Employee A: 15.62 miles\n",
    "# Employee B: 41.85 miles\n",
    "# Employee C: 32.67 miles\n",
    "\n",
    "# output: Distance: total_miles_traveled miles\n",
    "\n"
   ]
  },
  {
   "cell_type": "code",
   "execution_count": null,
   "id": "2f70de56",
   "metadata": {},
   "outputs": [],
   "source": [
    "# 34.2 Assign variables, modulus operator (%)\n",
    "\n",
    "# Create a solution that accepts an integer input representing any number of ounces. Output the converted total number of tons, pounds, and remaining ounces based on the input ounces value. There are 16 ounces in a pound and 2,000 pounds in a ton.\n",
    "\n",
    "# output: Tons: value_1\n",
    "# Pounds: value_2\n",
    "# Ounces: value_3\n",
    "\n"
   ]
  },
  {
   "cell_type": "code",
   "execution_count": null,
   "id": "a14b6339",
   "metadata": {},
   "outputs": [],
   "source": [
    "# 34.3 Formatted output of data type\n",
    "\n",
    "# Create a solution that accepts an integer input representing the index value for any of hte five elements in the following list:\n",
    "# various_data_types = [516, 112.49, True, \"meow\", (\"Western\", \"Governors\", \"University\"), {\"apple\": 1, \"pear\": 5}]\n",
    "#Using the built-in function type() and getting its name by using the .name attribute, output data type (e.g., int”, “float”, “bool”, “str”) based on the input index value of the list element.\n",
    "\n",
    "# output: Element index_value: data_type\n",
    "\n"
   ]
  },
  {
   "cell_type": "code",
   "execution_count": null,
   "id": "dbc68c50",
   "metadata": {},
   "outputs": [],
   "source": [
    "# 34.4 Data types in formulas\n",
    "\n",
    "# Create a solution that accepts any three integer inputs represnting the base (b1, b2) and height (h) measurements of a trapezoid in meters.\n",
    "# Output the exact area of hte trapezoid in square meters as a float value. The exact area of a trapezoid can be calculated by finding the average of the two base measurements, then multiplying by the base height measurement.\n",
    "\n",
    "# Trapezoid Area Formula:\n",
    "# A = [(b1 + b2) / 2] * h\n",
    "\n",
    "# ouput: Trapezoid area: area_value square meters\n",
    "\n"
   ]
  },
  {
   "cell_type": "code",
   "execution_count": null,
   "id": "9b5d1085",
   "metadata": {},
   "outputs": [],
   "source": [
    "# 34.5 Data type conversions\n",
    "\n",
    "# Create a solution that accepts five integer inputs. Output the sum of the five inputs 3 times, converting the inputs to the requested data type prior to finding the sum.\n",
    "# First output: sum of five inputs maintained as integer values\n",
    "# Second output: sum of five inputs converted to float values\n",
    "# Third output: sum of five inputs converted to string values (concatenate)\n",
    "\n",
    "# Integer: integer_sum_value\n",
    "# Float: float_sum_value\n",
    "# String: string_sum_value"
   ]
  },
  {
   "cell_type": "code",
   "execution_count": null,
   "id": "32d7a01c",
   "metadata": {},
   "outputs": [],
   "source": [
    "# 33.6 Phone Number Breakdown\n",
    "\n",
    "# Given an integer representing a 10-digit phone number, output the area code, prefix, and line number using the format (800) 555-1212\n",
    "# Hint: use % to get the desired rightmost digits\n",
    "# Hint: use // to shift right by the desired amount\n",
    "\n",
    "phone_number = int(input())"
   ]
  },
  {
   "cell_type": "code",
   "execution_count": null,
   "id": "b8cb8cbd",
   "metadata": {},
   "outputs": [],
   "source": [
    "# 34.7 Comparison operations with Boolean Values\n",
    "\n",
    "# Create a solution that accepts an integer input to compare against the following list:\n",
    "\n",
    "# predef_list = [4, -27, 15, 33, -10]\n",
    "\n",
    "# Greater Than Max? Boolean_value\n",
    "\n"
   ]
  },
  {
   "cell_type": "code",
   "execution_count": null,
   "id": "ae1383aa",
   "metadata": {},
   "outputs": [],
   "source": [
    "# 34.8 Try Block with Exception Errors\n",
    "\n",
    "# Create a solution that accepts one integer input representing the index value for any of the string elements in the following list:\n",
    "# frameworks = [\"Django\", \"Flask\", \"CherryPy\", \"Bottle\", \"Web2Py\", \"TurboGears\"]\n",
    "# Output the string element of the index value entered. The solution should be placed in a try block and implement an exception of \"Error\" if an incompatible integer input is provided.\n",
    "\n",
    "frameworks = [\"Django\", \"Flask\", \"CherryPy\", \"Bottle\", \"Web2Py\", \"TurboGears\"]"
   ]
  },
  {
   "cell_type": "code",
   "execution_count": null,
   "id": "8517b4db",
   "metadata": {},
   "outputs": [],
   "source": [
    "# 34.9 Branching conditional logic\n",
    "# Create a solution that accepts an integer input representing water temperature in degrees fahrenheit.\n",
    "# Output a description of the water state based on the following scale:\n",
    "\n",
    "# If the temperature is below 33° F, the water is “Frozen”.\n",
    "# If the water is between 33° F and 80° F (including 33), the water is “Cold”.\n",
    "# If the water is between 80° F and 115° F (including 80), the water is \"Warm\".\n",
    "# If the water is between 115° F and 211° (including 115) F, the water is “Hot\".\n",
    "# If the water is greater than or equal to 212° F, the water is “Boiling”.\n",
    "# Additionally, output a safety comment only during the following circumstances:\n",
    "\n",
    "# If the water is exactly 212° F, the safety comment is \"Caution: Hot!\"\n",
    "# If the water temperature is less than 33° F, the safety comment is \"Watch out for ice!\"\n",
    "# The solution output should be in the format\n",
    "# water_state\n",
    "# optional_safety_comment"
   ]
  },
  {
   "cell_type": "code",
   "execution_count": null,
   "id": "4dfb8fbe",
   "metadata": {},
   "outputs": [],
   "source": [
    "# 34.10 Dictionary Key Search\n",
    "\n",
    "# Create a solution that accepts an integer input identifying how many shares of stock are to be purchased from the Old Town Stock Exchange, followed by an equivalent number of string inputs represnting the stock selecitons.\n",
    "# Output the total cost of the purchased shares of stock to two decimal places.\n",
    "\n",
    "stocks = {'TSLA': 912.86 , 'BBBY': 24.84, 'AAPL': 174.26, 'SOFI': 6.92, 'KIRK': 8.72, 'AURA': 22.12, 'AMZN': 141.28, 'EMBK': 12.29, 'LVLU': 2.33}"
   ]
  },
  {
   "cell_type": "code",
   "execution_count": null,
   "id": "dc7e1064",
   "metadata": {},
   "outputs": [],
   "source": [
    "# 34.11 Dictionary conditional logic\n",
    "\n",
    "# Create a solution that accepts a string input representing a grocery store item and an integer input identifying the number of items purchased on a recent visit. \n",
    "# The following dictionary \"purchase\" lists available items as the key with the cost per item as the value.\n",
    "# purchase = {\"bananas\": 1.85, \"steak\": 19.99, \"cookies\": 4.52, \"celery\": 2.81, \"milk\": 4.34}\n",
    "# Additionally,\n",
    "\n",
    "# If fewer than ten items are purchased, the price is the full cost per item.\n",
    "# If between ten and twenty items (inclusive) are purchased, the purchase gets a 5% discount.\n",
    "# If twenty-one or more items are purchased, the purchase gets a 10% discount.\n",
    "# Output the chosen item and total cost of the purchase to two decimal places.\n",
    "# item_purchased $total_purchase_cost\n",
    "\n",
    "purchase = {\"bananas\": 1.85, \"steak\": 19.99, \"cookies\": 4.52, \"celery\": 2.81, \"milk\": 4.34}\n"
   ]
  },
  {
   "cell_type": "code",
   "execution_count": null,
   "id": "cef2c0ce",
   "metadata": {},
   "outputs": [],
   "source": [
    "# 34.13 Manipulate CSV Files\n",
    "\n",
    "# Creat a solution that accepts an input identifying the name of a CSV file, for example, \"input1.csv\". Each file contains two rows of comma-separated values.\n",
    "# Import the built-in module csv and use its open() function and reader() method to create a dictionary of key:value pairs for each row of comma-separated values in the specified field.\n",
    "# Output the file contents as two dictionaries"
   ]
  },
  {
   "cell_type": "code",
   "execution_count": null,
   "id": "be701837",
   "metadata": {},
   "outputs": [],
   "source": [
    "# 34.14 Math Module\n",
    "# Create a solution that accepts an integer input. Import the built-in module \"math\" and use its factorial() method to calculate the factorial of the integer input.\n",
    "# Output the value of the factorial, as well as a Boolean value identifying whether the factorial output is greater than 100.\n",
    "\n",
    "# factorial_value\n",
    "# Boolean_value\n",
    "\n",
    "#import math module and call factorial()\n",
    "#solution accepts integer input\n",
    "#solution outputs the factorial of the integer input \n",
    "#solution outputs Boolean identification of whether the factorial is >100\n"
   ]
  },
  {
   "cell_type": "code",
   "execution_count": null,
   "id": "c6f9c5e0",
   "metadata": {},
   "outputs": [],
   "source": [
    "# 34.15 Import custom module\n",
    "\n",
    "# Create a solution that accpets an integer input representing the age of a pig.\n",
    "# Import the existing module \"pigAge\" and use its pre-built pigAge_converter() function to calculate the human equivalent age of a pig.\n",
    "# A year in a pig's life is equivalent to five years in a human's life. Output the human equivalent age of a pig.\n",
    "# input_pig_age is converted_pig_age in human years\n",
    "\n"
   ]
  }
 ],
 "metadata": {
  "language_info": {
   "name": "python"
  }
 },
 "nbformat": 4,
 "nbformat_minor": 5
}
