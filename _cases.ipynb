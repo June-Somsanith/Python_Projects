{
 "cells": [
  {
   "cell_type": "code",
   "execution_count": 4,
   "id": "1c89ec52",
   "metadata": {},
   "outputs": [
    {
     "name": "stdout",
     "output_type": "stream",
     "text": [
      "Hello June Taylor. We are very glad you are here today. Keep chugging along :)\n"
     ]
    }
   ],
   "source": [
    "# 2.3. Personal Messsage:\n",
    "# Use a variable to represent a person's name, and print a message to that person. Your message should be simple.\n",
    "\n",
    "name_input = input(\"Please enter your first and last name:\")\n",
    "\n",
    "first_last = name_input.split()\n",
    "\n",
    "first_name = first_last[0]\n",
    "last_name = first_last[1]\n",
    "\n",
    "greeting = f\"Hello {first_name} {last_name}. We are very glad you are here today. Keep chugging along :)\"\n",
    "\n",
    "print(greeting)"
   ]
  },
  {
   "cell_type": "code",
   "execution_count": 7,
   "id": "5b504cbf",
   "metadata": {},
   "outputs": [
    {
     "name": "stdout",
     "output_type": "stream",
     "text": [
      "june taylor \n",
      " JUNE TAYLOR \n",
      " June Taylor\n"
     ]
    }
   ],
   "source": [
    "# 2.4. Name Cases:\n",
    "# Use a variable to represent a person's name and then print that person's name in lowercase, uppercase, and title case.\n",
    "\n",
    "name_input = input(\"Please enter your first and last name:\")\n",
    "\n",
    "lower_case = name_input.lower()\n",
    "\n",
    "upper_case = name_input.upper()\n",
    "\n",
    "title_case = name_input.title()\n",
    "\n",
    "print(lower_case,\"\\n\",upper_case,\"\\n\",title_case)\n"
   ]
  },
  {
   "cell_type": "code",
   "execution_count": 9,
   "id": "f80d71d6",
   "metadata": {},
   "outputs": [
    {
     "name": "stdout",
     "output_type": "stream",
     "text": [
      "Pumba once said, \"Hakuna Matata\"\n"
     ]
    }
   ],
   "source": [
    "# 2.5 Famous Quote:\n",
    "# Find a quote from a famous person you admire. Print the quote and the name of its author. Your output should look something like hte following, including  hte quotation marks:\n",
    "# Alber Einstein once said, \"A person who never made a mistake never tried anything new.\"\n",
    "\n",
    "quote = input(\"Please insert your favorite quote:\")\n",
    "author = input(\"Please input the author(if unknown put 'unknown'):\")\n",
    "\n",
    "print(f'{author} once said, \"{quote}\"')"
   ]
  },
  {
   "cell_type": "code",
   "execution_count": null,
   "id": "449dbc6b",
   "metadata": {},
   "outputs": [],
   "source": []
  }
 ],
 "metadata": {
  "kernelspec": {
   "display_name": "Python 3",
   "language": "python",
   "name": "python3"
  },
  "language_info": {
   "codemirror_mode": {
    "name": "ipython",
    "version": 3
   },
   "file_extension": ".py",
   "mimetype": "text/x-python",
   "name": "python",
   "nbconvert_exporter": "python",
   "pygments_lexer": "ipython3",
   "version": "3.13.3"
  }
 },
 "nbformat": 4,
 "nbformat_minor": 5
}
