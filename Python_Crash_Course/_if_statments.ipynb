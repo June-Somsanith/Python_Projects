{
 "cells": [
  {
   "cell_type": "code",
   "execution_count": null,
   "id": "0039d86f",
   "metadata": {},
   "outputs": [],
   "source": [
    "# 5.1 Conditional Tests\n",
    "# Write a series of conditional tests. Print a statement describing each test and your prediction for the results of each test. Your code should look something like this: \n",
    "# car = 'subaru'\n",
    "# print(\"Is car == 'subaru'? I predict True.\")\n",
    "# print(car == 'subaru')\n",
    "# print(\"\\nIs car == 'audi'? I predict False.\")\n",
    "# print(car == 'audi')\n",
    "# Look closely at your results, and make sure you understand why each line evaluates to True or False.\n",
    "# Create at least 10 tests. Have at least 5 tests evalue to True and another 5 tests evaluate the False.\n",
    "\n"
   ]
  },
  {
   "cell_type": "code",
   "execution_count": null,
   "id": "9fa27a00",
   "metadata": {},
   "outputs": [],
   "source": [
    "# 5.2 More Conditional Tests\n",
    "# You don't have to limit the nubmer of tests you create to 10. If you want to try more comparisons, write more tests and add them to conditional_test.py. Have at least one True and one False result for each of hte following:\n",
    "# Tests for equality and inequality with strings\n",
    "# Tests using the lower() method\n",
    "# Numberical tests involving equality, greater than and less than, greater than or equal to, and less than or equal to\n",
    "# Tests using the and keyword and the or keyword\n",
    "# Test whether an item is in a list\n",
    "# Test whether an item is not in a list\n",
    "\n"
   ]
  },
  {
   "cell_type": "code",
   "execution_count": null,
   "id": "42b2759f",
   "metadata": {},
   "outputs": [],
   "source": [
    "# 5.3 Alien Colors #1\n",
    "# Imagine an alien was just shot down in a game. Create a variable called alien_colr and assign it a value of 'green', 'yellow', or 'red'.\n",
    "# Write an if statement to test whether the alien's color is green. If it is, print a message that the player just earned 5 points.\n",
    "# Write one version ofthis program that passes the if test and another that fails (The version that fails will have no output).\n"
   ]
  },
  {
   "cell_type": "code",
   "execution_count": null,
   "id": "cfdd3542",
   "metadata": {},
   "outputs": [],
   "source": [
    "# 5.4 Alien Colors #2\n",
    "# Choose a color for an alien as you did in 5.3, and write an if-else chain.\n",
    "# If the alien's color is green, print a statement that the player just earned 5 points for shooting the alien.\n",
    "# If the alien's color isn't green, print a statement that the player just earned 10 points.\n",
    "# Write one verison of this program that runs the if block and another that runs the else block.\n"
   ]
  },
  {
   "cell_type": "code",
   "execution_count": null,
   "id": "bea2df42",
   "metadata": {},
   "outputs": [],
   "source": [
    "# 5.5 Alien Colors #3\n",
    "# Turn your if-else chain from 5.4 into an if-elif-else chain.\n",
    "# If the alien is green, print a message that the player earned 5 points.\n",
    "# If the alien is yellow, print a message that the player earned 10 points.\n",
    "# If the alien is red, print a message that the player earned 15 points.\n",
    "# Write three versions of this program, making sure each message is printed fro the appropriate color alien.\n",
    "\n"
   ]
  },
  {
   "cell_type": "code",
   "execution_count": null,
   "id": "32195acf",
   "metadata": {},
   "outputs": [],
   "source": [
    "# 5.6 Stages of Life\n",
    "# Write an if-elif-else chain that determines a person's stage of life. Set a value for the variable age and then:\n",
    "# 1) if the person is less than 2 years old but less than 4, print a message that the person is a toddler\n",
    "# 2) if the person is at least 4 years old but less than 13, print a message that the person is a kid\n",
    "# 3) if the person is at least 13 years old but less than 20, print a message that the person is a teenager\n",
    "# 4) if the person is at least 20 years old but less than 65, print a message that the person is an adult\n",
    "# 5) if the person is age 65 or older, print a message that the person is an elder\n",
    "\n"
   ]
  },
  {
   "cell_type": "code",
   "execution_count": null,
   "id": "9d4e51da",
   "metadata": {},
   "outputs": [],
   "source": [
    "# 5.7 Favorite Fruit\n",
    "# Make a list of your favorite fruits, and then write a series of indepenednt if statements that check for certqin fruits in your list.\n",
    "# 1) Make a list of your three favorite fruits and call it favorite_fruits\n",
    "# 2) Write five if statements. Each should check whether a certain kind of fruit is in your list. If the fruit is in your list, the if block should print a statement such as \"You really like bananas!\"\n",
    "\n"
   ]
  },
  {
   "cell_type": "code",
   "execution_count": null,
   "id": "8ec8f37a",
   "metadata": {},
   "outputs": [],
   "source": [
    "# 5.8 Hello Admin\n",
    "# Make a list of five or more usernames, including the name \"admin\". Imagine you are writing code that will print a greeting to each user after they log in to a website. Loop through the list, and print a greeting to each user.\n",
    "# 1) if the username is \"admin\", print a special greeting, such as \"Hello admin, would you like to see a status report?\"\n",
    "# 2) Otherwise, print a generic greeting, such as \"Hello Jaden, thank you for logging in again.\"\n"
   ]
  },
  {
   "cell_type": "code",
   "execution_count": null,
   "id": "f78772f3",
   "metadata": {},
   "outputs": [],
   "source": [
    "# 5.9 No Users\n",
    "# Add an if test to Hello_admin.py to make sure the list of users is not empty.\n",
    "# 1) if the list is empty, print the message \"We need to find some users!\"\n",
    "# 2) Remove all of the usernames from your list, and make sure the correct message is printed\n"
   ]
  },
  {
   "cell_type": "code",
   "execution_count": null,
   "id": "3bef8495",
   "metadata": {},
   "outputs": [],
   "source": [
    "# 5.10 Checking Usernames\n",
    "# Do the followint to create a program that simulates how websites ensure that everyone has a unique username.\n",
    "# 1) Make a list of five or more usernames called current_users\n",
    "# 2) Make another list of five usernames called new_users. Make sure one of the two of the new usernames are also in the current_users list\n",
    "# 3) Loop through the new_users list to see if each new username has already been used. If it has, print a nessage that the person will need to enter a new username. If a usernames has not been used, print a message saying that hte username is available.\n",
    "# 4) Make sure your comparison is case insensitive. If 'John' has been used, 'JOHN' should not be accepted. (to do this, you'll need to make a copy of current_users continaing the lowercase versions of all existing users.)\n"
   ]
  },
  {
   "cell_type": "code",
   "execution_count": null,
   "id": "c5c3ac56",
   "metadata": {},
   "outputs": [],
   "source": [
    "# 5.11 Ordinal Numbers\n",
    "# Ordinal numbers indicate their postion in a list, such as 1st or 2nd. Most ordinal numbers end in th, except 1, 2, and 3.\n",
    "# 1) Store the numbers 1 through 9 in a list\n",
    "# 2) Loop through the list\n",
    "# 3) Use an if-elif-else chain inside the loop to print hte proper ordinal ending for each number. Your output should read \"1st 2nd 3rd 4th 5th 6th 6th 8th 9th\", and each result should be on a seperate line.\n",
    "\n"
   ]
  },
  {
   "cell_type": "code",
   "execution_count": null,
   "id": "7c38718a",
   "metadata": {},
   "outputs": [],
   "source": [
    "# 5.12 Styling if statements\n",
    "# Review the programs you wrote in this chapter, and make sure you styled your conditional tests appropriately\n"
   ]
  },
  {
   "cell_type": "code",
   "execution_count": null,
   "id": "a0fffa41",
   "metadata": {},
   "outputs": [],
   "source": [
    "# 5.13 Your Ideas:\n",
    "# At this point, you're a more capable programmer than you were when you started this book. Now that you have a beter sense of how real-world situations are modeled in programs, you might be thinking of some problems you could solve with your own programs.\n",
    "# Record any new ideas you have about problems you might want to write, datasets you might want to explore, and web applications you'd like to create.\n"
   ]
  }
 ],
 "metadata": {
  "language_info": {
   "name": "python"
  }
 },
 "nbformat": 4,
 "nbformat_minor": 5
}
