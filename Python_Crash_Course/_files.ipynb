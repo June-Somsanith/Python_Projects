{
 "cells": [
  {
   "cell_type": "code",
   "execution_count": null,
   "id": "047b1ffa",
   "metadata": {},
   "outputs": [],
   "source": [
    "# 10.1 Learning Python\n",
    "# Open a blank file in your text editor and write a few lines summarizing what you've learned about Python so far. Start each line with the phrase \"In Python you can...\". Save the files as \"learning_python.txt\" in the same directory as your exercises from this chapter.\n",
    "# Write a program that reads the file and prints what you wrote two times: print the contents once by reading in the entire file, and once by storing the lines in a list and then looping over each line.\n",
    "\n"
   ]
  }
 ],
 "metadata": {
  "language_info": {
   "name": "python"
  }
 },
 "nbformat": 4,
 "nbformat_minor": 5
}
