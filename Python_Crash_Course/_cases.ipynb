{
 "cells": [
  {
   "cell_type": "code",
   "execution_count": null,
   "id": "1c89ec52",
   "metadata": {},
   "outputs": [],
   "source": [
    "# 2.3. Personal Messsage:\n",
    "# Use a variable to represent a person's name, and print a message to that person. Your message should be simple.\n",
    "\n",
    "name_input = input(\"Please enter your first and last name:\")\n",
    "\n",
    "first_last = name_input.split()\n",
    "\n",
    "first_name = first_last[0]\n",
    "last_name = first_last[1]\n",
    "\n",
    "greeting = f\"Hello {first_name} {last_name}. We are very glad you are here today. Keep chugging along :)\"\n",
    "\n",
    "print(greeting)"
   ]
  },
  {
   "cell_type": "code",
   "execution_count": null,
   "id": "5b504cbf",
   "metadata": {},
   "outputs": [],
   "source": [
    "# 2.4. Name Cases:\n",
    "# Use a variable to represent a person's name and then print that person's name in lowercase, uppercase, and title case.\n",
    "\n",
    "name_input = input(\"Please enter your first and last name:\")\n",
    "\n",
    "lower_case = name_input.lower()\n",
    "\n",
    "upper_case = name_input.upper()\n",
    "\n",
    "title_case = name_input.title()\n",
    "\n",
    "print(lower_case,\"\\n\",upper_case,\"\\n\",title_case)\n"
   ]
  },
  {
   "cell_type": "code",
   "execution_count": null,
   "id": "f80d71d6",
   "metadata": {},
   "outputs": [],
   "source": [
    "# 2.5 Famous Quote:\n",
    "# Find a quote from a famous person you admire. Print the quote and the name of its author. Your output should look something like hte following, including  hte quotation marks:\n",
    "# Alber Einstein once said, \"A person who never made a mistake never tried anything new.\"\n",
    "\n",
    "quote = input(\"Please insert your favorite quote:\")\n",
    "author = input(\"Please input the author(if unknown put 'unknown'):\")\n",
    "\n",
    "print(f'{author} once said, \"{quote}\"')"
   ]
  },
  {
   "cell_type": "code",
   "execution_count": null,
   "id": "449dbc6b",
   "metadata": {},
   "outputs": [],
   "source": [
    "# 2.6 Famous Quote 2:\n",
    "# Repeat Exercise 2.5, but this time, represent the famous person's name using a varialbe called famous_person. Then compose your message and represent it with a new variable called message. Print your message.\n",
    "\n",
    "famous_person = input(\"Please insert your favorite quote:\")\n",
    "\n",
    "message = input(\"Please provide a quote:\")\n",
    "\n",
    "print(f'{famous_person} once said, \"{message}\"')"
   ]
  },
  {
   "cell_type": "code",
   "execution_count": null,
   "id": "a345f145",
   "metadata": {},
   "outputs": [],
   "source": [
    "# 2.7 Stripping Names:\n",
    "# Use a variable to represent a person's name and include some whitespace characters at the beginning and end of the name. Make sure you use each character combination, \"\\t\" and \"\\n\", at least once.\n",
    "# Print the name once, so the whitespace around the name is displayed. Then print the name using each of the three stripping functions, lstrip(), rstrip(), and strip()\n",
    "\n",
    "name = input(\"Please enter your first and last name:\")\n",
    "\n",
    "print(name)\n",
    "\n",
    "print(f'{name.lstrip()}')\n",
    "\n",
    "print(f'{name.rstrip()}')\n",
    "\n",
    "print(f'{name.strip()}')"
   ]
  },
  {
   "cell_type": "code",
   "execution_count": null,
   "id": "c998c3e4",
   "metadata": {},
   "outputs": [],
   "source": [
    "# 2.8 File Extensions:\n",
    "# Python has a removesuffix() method that works exactly like removeprefix(). Assign the value 'python_notes.txt' to a variable called filename. Then use the removesuffix() method to display the filename without the file extension, like some file borwsers do.\n",
    "\n",
    "filename = 'python_notes.txt'\n",
    "\n",
    "suffix_removal = filename.removesuffix(\".txt\")\n",
    "\n",
    "print(f'{suffix_removal}')\n"
   ]
  }
 ],
 "metadata": {
  "kernelspec": {
   "display_name": "Python 3",
   "language": "python",
   "name": "python3"
  },
  "language_info": {
   "codemirror_mode": {
    "name": "ipython",
    "version": 3
   },
   "file_extension": ".py",
   "mimetype": "text/x-python",
   "name": "python",
   "nbconvert_exporter": "python",
   "pygments_lexer": "ipython3",
   "version": "3.13.3"
  }
 },
 "nbformat": 4,
 "nbformat_minor": 5
}
