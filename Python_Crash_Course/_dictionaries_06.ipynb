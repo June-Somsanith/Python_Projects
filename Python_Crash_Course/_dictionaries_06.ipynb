{
 "cells": [
  {
   "cell_type": "code",
   "execution_count": null,
   "id": "8ba3bba2",
   "metadata": {},
   "outputs": [],
   "source": [
    "# 6.1 Person\n",
    "# Use a dictionary to store information about a person you know. Store their first name, last name, age, and the city in which they live\n",
    "# You should have keys such as first_name, last_name, age, and city.\n",
    "# Print each piece of information stored in your dictionary.\n"
   ]
  },
  {
   "cell_type": "code",
   "execution_count": null,
   "id": "2f5c8cd4",
   "metadata": {},
   "outputs": [],
   "source": [
    "# 6.2 Favorite Numbers\n",
    "# Use a dictionary to store people's favroite numbers. Think of five names, and use them as ekys in your dictionary.\n",
    "# Think of a favorite number for each person, and store each as a value in your dictionary.\n",
    "# Print each person's name and their favorite number. For even more fun, poll a few friends and get some actual data for your program.\n"
   ]
  },
  {
   "cell_type": "code",
   "execution_count": null,
   "id": "533b653e",
   "metadata": {},
   "outputs": [],
   "source": [
    "# 6.3 Glossary\n",
    "# A python dictionary can be used to model an actual dictionary. However, to avoid confusion, let's call it a glossary.\n",
    "# 1) think of five programming words you've learned about in the previous chapters. Use these words as the keys in your glossary, and store their meanings as values.\n",
    "# 2) Print each word and its meanign as neatly formatted output. You might print the word followed by a colon and then its meaning, or print the word on one line and then print its meaning indented on a second line. Use the newline character(\\n) to insert a blank line between each word-meaning pair in your output.\n"
   ]
  },
  {
   "cell_type": "code",
   "execution_count": null,
   "id": "2789cbb2",
   "metadata": {},
   "outputs": [],
   "source": [
    "# 6.4 Glossary 2\n",
    "# Now that you know how to loop through a dictionary, clean up the code from 6.3 by replacing your series of print() cals with a loop that runs through the dictionary's keys and values.\n",
    "# When you're sure that your loop works, add five more python terms to your glossary. When you run your program again, these new words and meanings should automaticlaly be included in the output.\n"
   ]
  },
  {
   "cell_type": "code",
   "execution_count": null,
   "id": "f87f8528",
   "metadata": {},
   "outputs": [],
   "source": [
    "# 6.5 Rivers\n",
    "# Make a dictionary containing three major rivers and the country each river runs through. One key-value pair might be 'nile' : 'egypt'.\n",
    "# 1) Use a loop to print a sentence about each river, such as \"The Nile runs through Egypt.\"\n",
    "# 2) Use a loop to print the name of each river included in the dictionary.\n",
    "# 3) Use a loop to prin the name of each country included in the dictionary.\n"
   ]
  },
  {
   "cell_type": "code",
   "execution_count": null,
   "id": "28da96aa",
   "metadata": {},
   "outputs": [],
   "source": [
    "# 6.6 Polling\n",
    "# Use the code in favorite_languages.py\n",
    "# 1) Make a list of people who should take the favorite languages poll. Include some names that are already in the dictionary and some that are not.\n",
    "# 2) Loop throug hte list of people who should take the poll. If they have already taken the poll, print a message thanking them for responding. If they have not yet taken the poll, print a message inviting them to take the poll.\n"
   ]
  },
  {
   "cell_type": "code",
   "execution_count": null,
   "id": "44c5a3e5",
   "metadata": {},
   "outputs": [],
   "source": [
    "# 6.7 People\n",
    "# Start with the program you wrote for 6.1. Make two new dictionaries representing different people, and store all three dictionaries in a list called people.\n",
    "# Loop through you list of people. As you loop through the list, print everything you know about each person.\n"
   ]
  },
  {
   "cell_type": "code",
   "execution_count": null,
   "id": "fe2726b3",
   "metadata": {},
   "outputs": [],
   "source": [
    "# 6.8 Pets\n",
    "# Make several dictionaries, where each dictionary represents a different pet. In each dictionary, include the kind of animal and the owner's name.\n",
    "# Store these dictionaries in a list called pets.\n",
    "# Loop through your list and as you do, print everything you know about each pet\n"
   ]
  },
  {
   "cell_type": "code",
   "execution_count": null,
   "id": "11d051b2",
   "metadata": {},
   "outputs": [],
   "source": [
    "# 6.9 Favorite Places\n",
    "# Make a dictionary called favorite_places. Think of three names to use as keys in the dictionary, and store one to three favorite places for each person.\n",
    "# Ask some friends to name a few of their favorite places. Loop through the dictionary, and print each person's name and their favorite places.\n"
   ]
  },
  {
   "cell_type": "code",
   "execution_count": null,
   "id": "f7603c5a",
   "metadata": {},
   "outputs": [],
   "source": [
    "# 6.10 Favorite Numbers\n",
    "# Modify your program from 6.2 so each person can have more than one favorite number.\n",
    "# Print each person's name along with their favorite numbers.\n"
   ]
  },
  {
   "cell_type": "code",
   "execution_count": null,
   "id": "37c74d77",
   "metadata": {},
   "outputs": [],
   "source": [
    "# 6.11 Cities\n",
    "# Make a dictionary called cities. Use the names of three cities as keys in your dictionary.\n",
    "# Create a dictionary of information about each city and include the contry that the city is in, its approximate population, and one fact about that city.\n",
    "# The keys for each city's dictionary should be something like coutnry, population, and fact. Print the name of each city and all of the information you have stored about it.\n"
   ]
  },
  {
   "cell_type": "code",
   "execution_count": null,
   "id": "d83c16af",
   "metadata": {},
   "outputs": [],
   "source": [
    "# 6.12 Extensions\n",
    "# We're now working with examples that are complex enough that they can be extended in any number of ways. \n",
    "# Use one of the example programs from this chaptet, and extend it by adding new keys and values, changing the context ofthe program, or improving the formatting of the output.\n"
   ]
  }
 ],
 "metadata": {
  "language_info": {
   "name": "python"
  }
 },
 "nbformat": 4,
 "nbformat_minor": 5
}
