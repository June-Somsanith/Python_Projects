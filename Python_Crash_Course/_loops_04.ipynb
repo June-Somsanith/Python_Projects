{
 "cells": [
  {
   "cell_type": "code",
   "execution_count": null,
   "id": "61c299ba",
   "metadata": {},
   "outputs": [],
   "source": [
    "# 4.1 Pizzas\n",
    "# Think of at least three kinds of your favorite pizza. Store these pizza names in a list, and then use a for loop to print the name of each pizza.\n",
    "# Modify you for loop to print a sentaence using the name of the pizza instead of printing just the name of the pizza. For each pizze, you should have one line of output containing a simple statement like \"I like pepperoni pizza.\"\n",
    "# Add a line at the end of your program, outside the for loop, that sates how much you like pizza. The output should consist of three or more lines about the kinds of pizza you like and then an addtional sentence, such as \"I really love pizza!\"\n",
    "\n",
    "pizzas = ['pepperoni','meat lovers', 'supreme']\n",
    "\n",
    "for pizza in pizzas:\n",
    "    print(pizza)\n",
    "\n",
    "for pizza in pizzas:\n",
    "    print(f'I love {pizza} pizza!')\n",
    "\n",
    "print(f'I just really love pizza!')"
   ]
  },
  {
   "cell_type": "code",
   "execution_count": 8,
   "id": "dc4382f1",
   "metadata": {},
   "outputs": [
    {
     "name": "stdout",
     "output_type": "stream",
     "text": [
      "cheetah\n",
      "tiger\n",
      "lion\n",
      "A Cheetah would make a dangerous pet.\n",
      "A Tiger would make a dangerous pet.\n",
      "A Lion would make a dangerous pet.\n",
      "Any of these animals would make a dangerous pet!\n"
     ]
    }
   ],
   "source": [
    "# 4.2 Animals\n",
    "# Think of at least three different animals that have a common characteristic. Store the names of these animals in a list, and then use a for loop to print out the name of each animal.\n",
    "# Modify your program to print a statement about each animal, such as \"A dog would make a great pet.\"\n",
    "# Add a line at the end of your program, stateing what these animals have in common. You could print a sentence such as \"Any of these animals would make a great pet!\"\n",
    "\n",
    "animals = ['cheetah', 'tiger', 'lion']\n",
    "\n",
    "for cat in animals:\n",
    "    print(cat)\n",
    "\n",
    "for cat in animals:\n",
    "    print(f'A {cat.title()} would make a dangerous pet.')\n",
    "\n",
    "print('Any of these animals would make a dangerous pet!')"
   ]
  },
  {
   "cell_type": "code",
   "execution_count": null,
   "id": "08930f41",
   "metadata": {},
   "outputs": [],
   "source": [
    "# 4.3 Counting to Twenty\n",
    "# Use a for loop to print the numbers from 1 to 20, inclusive.\n",
    "\n",
    "user_input = int(input())\n",
    "\n",
    "for num in range(user_input):\n",
    "    if user_input > 20:\n",
    "        print('Enter a number less than 21.')\n",
    "        break\n",
    "    else:\n",
    "        nums = num + 1\n",
    "        print(nums)\n",
    "        "
   ]
  },
  {
   "cell_type": "code",
   "execution_count": null,
   "id": "b813988a",
   "metadata": {},
   "outputs": [],
   "source": [
    "# 4.4 One Million\n",
    "# Make a list of the numbers from one to one million, and then use a for loop to print the numbers. (if the output is taking too long, stop it by pressing CTRL-C or by closing the output window.)\n",
    "\n",
    "user_input = int(input('Enter a number between 1 and 1,000,000:'))\n",
    "\n",
    "for num in range(user_input):\n",
    "    if user_input > 1000000:\n",
    "        print('Number is too large!')\n",
    "    elif user_input < 0:\n",
    "        print('Number is to small!')\n",
    "    else:\n",
    "        nums = num + 1\n",
    "        print(nums)"
   ]
  },
  {
   "cell_type": "code",
   "execution_count": null,
   "id": "3c6736a3",
   "metadata": {},
   "outputs": [],
   "source": [
    "# 4.5 Summing a Million:\n",
    "# Make a list of the numbers from one to one million, and then use min() and max() to make sure your list actually starts at one and ends at one million.\n",
    "# Use the sum() function to see how quickly Python can add a million numbers.\n",
    "\n",
    "user_input = int(input(\"Enter a number between 1 and 1,000,000:\"))\n",
    "\n",
    "num_list = []\n",
    "\n",
    "for num in range(user_input):\n",
    "    num_list = num + 1\n",
    "\n",
    "user_min = min(num_list)\n",
    "print(\"The minimum number is {user_min}.\")\n",
    "user_max = max(user_max)\n",
    "print(\"The maximum number is {user_max}.\")\n",
    "\n"
   ]
  },
  {
   "cell_type": "code",
   "execution_count": 48,
   "id": "3beb99cf",
   "metadata": {},
   "outputs": [
    {
     "name": "stdout",
     "output_type": "stream",
     "text": [
      "1 3 5 7 9 11 13 15 17 19\n"
     ]
    }
   ],
   "source": [
    "# 4.6 Odd Numbers\n",
    "# Use the third argument of the range() function to make a list of the odd numbers from 1 to 20. Use a for loop to print each number.\n",
    "\n",
    "for value in range(1, 20):\n",
    "    odd_numbers = list(range(1, 20, 2))\n",
    "\n",
    "print(*odd_numbers)\n"
   ]
  },
  {
   "cell_type": "code",
   "execution_count": null,
   "id": "6742a321",
   "metadata": {
    "tags": [
     "Try Again!"
    ]
   },
   "outputs": [],
   "source": [
    "# 4.7 Threes\n",
    "# Make a list of the multiples of 3, from 3 to 30. Use a for loop to print the numbers in your list.\n",
    "\n",
    "multiples = []\n",
    "\n",
    "for value in range(3, 31):\n",
    "    if value % 3 == 0:\n",
    "        multiples.append(value)\n",
    "\n",
    "print(*multiples)"
   ]
  },
  {
   "cell_type": "code",
   "execution_count": 64,
   "id": "f6fbb8c2",
   "metadata": {},
   "outputs": [
    {
     "name": "stdout",
     "output_type": "stream",
     "text": [
      "1 8 27 64 125 216 343 512 729 1000\n"
     ]
    }
   ],
   "source": [
    "# 4.8 Cubes\n",
    "# A number raised to the third power is called a cube. For example, the cube of 2 is written as 2**3 in Python.\n",
    "# Make a list of the first 10 cubes (that is, the cube of each integer from 1 through 10), and use a for loop to print out the value of each cube.\n",
    "\n",
    "cubes = []\n",
    "\n",
    "for value in range(1, 11):\n",
    "    cubed_value = value ** 3\n",
    "    cubes.append(cubed_value)\n",
    "\n",
    "print(*cubes)"
   ]
  },
  {
   "cell_type": "code",
   "execution_count": null,
   "id": "3def52a2",
   "metadata": {},
   "outputs": [],
   "source": [
    "# 4.9 Cube Comprehension\n",
    "# Use a list comprehension to generate a list of the first 10 cubes.\n",
    "\n",
    "cubes = [value**3 for value in range(1,11)]\n",
    "print(*cubes)"
   ]
  },
  {
   "cell_type": "code",
   "execution_count": null,
   "id": "44668ad7",
   "metadata": {
    "tags": [
     "Try Again!"
    ]
   },
   "outputs": [],
   "source": [
    "# 4.10 Slices\n",
    "# Using one of the programs you wrote in this chapter, add several lines to the end of the program that do the following:\n",
    "# 1) Print the message \"The first three items in the list area:\". Then use a slice to print the first three items from that program's list.\n",
    "# 2) Print the message \"Three items from the middle of the list are:\". Then use a slice to print three items from the middle of the list.\n",
    "# 3) Print the message \"The last three items in the list are:\". Then use a slice to print the last three items in the list.\n",
    "\n",
    "cubes = [value**3 for value in range(1,11)]\n",
    "print(*cubes)\n",
    "\n",
    "\n",
    "\n",
    "print(f\"The first items in the list area: {first}\")\n",
    "\n",
    "print(f\"Three items from the middle of the list are: {middle}\")\n",
    "\n",
    "print(f\"The last three items in the list are: {last}\")"
   ]
  },
  {
   "cell_type": "code",
   "execution_count": null,
   "id": "a1cbffe5",
   "metadata": {
    "tags": [
     "Try Again!"
    ]
   },
   "outputs": [],
   "source": [
    "# 4.11 My Pizzas, Your Pizzas\n",
    "# Start with your program from Exercise 4-1 (page 56). Make a copy of the list of pizzas, and call it friend_pizzas. Then do the following:\n",
    "# Add a new pizza to the original list\n",
    "# Add a different pizza to the list friend_pizzas\n",
    "# Prove that you have two separate lists. Print the message \"My favorite pizzas are:\", and then use a for loop to print the first list. Print the message \"my friend's favorite pizzas are:\", and then use a for loop to print the second list.\n",
    "# Make sure each new pizza is sored in the appropriate list.\n",
    "\n",
    "pizzas = ['pepperoni','meat lovers', 'supreme']\n",
    "friend_pizzas = ['pepperoni','meat lovers', 'supreme']\n",
    "\n",
    "pizzas.insert(3,'cheese')\n",
    "friend_pizzas.insert(3,'veggie')\n",
    "\n",
    "print(f\"My favorite pizzas are:\")\n",
    "for pizza in pizzas:\n",
    "    print(f\"-{pizza.title()}\")\n",
    "\n",
    "print()\n",
    "\n",
    "print(f\"My friend's favorite pizzas are:\")\n",
    "for pizza in friend_pizzas:\n",
    "    print(f\"-{pizza.title()}\")\n"
   ]
  },
  {
   "cell_type": "code",
   "execution_count": null,
   "id": "38598969",
   "metadata": {},
   "outputs": [],
   "source": [
    "# 4.12 More Loops\n",
    "# All versions of foods.py in this section have avoided useing for loops when printing, to save space.\n",
    "# Choose a version of foods.py, and write two for loops to print each list of foods.\n",
    "\n"
   ]
  },
  {
   "cell_type": "code",
   "execution_count": null,
   "id": "317c05d2",
   "metadata": {},
   "outputs": [],
   "source": [
    "# 4.13 Buffet\n",
    "# A buffet-style restaurant offers only five basic foods. Think of five simple foods, and store them in a tuple.\n",
    "# Use a for loop to print each food the restaurant offers.\n",
    "# Try to modify one of the items, and make sure that python rejects the change.\n",
    "# The restaurant changes its menu, replacing two of the items with different foods. Add a line that rewrites the tuple, and then use a for loop to print each of the items on the revised menu.\n",
    "\n"
   ]
  },
  {
   "cell_type": "code",
   "execution_count": null,
   "id": "f6558a7d",
   "metadata": {},
   "outputs": [],
   "source": [
    "# 4.14 PEP 8\n",
    "# Look through the original PEP 8 style guide at https://python.org/dev/peps/pep-0008. You won't use much of it now, but it might be interesting to skim through it.\n",
    "\n"
   ]
  },
  {
   "cell_type": "code",
   "execution_count": null,
   "id": "5a825d9a",
   "metadata": {},
   "outputs": [],
   "source": [
    "# 4.15 Code Review\n",
    "# Chose three of the programs you've written in this chapter and modify each one of to comply with PEP 8.\n",
    "# Use four spaces for each indentation level. Set your text editor to insert four spaces every time you press the TAB key, if you haven't already done so (see Appendix B for instructions on how to do this).\n",
    "# Use less than 80 characters on each line, and set your editor to show a vertical guidelines at the 80th character position.\n",
    "# Don't use blank lines excessively in your program files.\n",
    "\n"
   ]
  }
 ],
 "metadata": {
  "kernelspec": {
   "display_name": "Python 3",
   "language": "python",
   "name": "python3"
  },
  "language_info": {
   "codemirror_mode": {
    "name": "ipython",
    "version": 3
   },
   "file_extension": ".py",
   "mimetype": "text/x-python",
   "name": "python",
   "nbconvert_exporter": "python",
   "pygments_lexer": "ipython3",
   "version": "3.13.3"
  }
 },
 "nbformat": 4,
 "nbformat_minor": 5
}
