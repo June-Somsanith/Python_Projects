{
 "cells": [
  {
   "cell_type": "code",
   "execution_count": null,
   "id": "2bd8a10e",
   "metadata": {},
   "outputs": [],
   "source": [
    "# 34.10 Dictionary Key Search\n",
    "\n",
    "# Create a solution that accepts an integer input identifying how many shares of stock are to be purchased from the Old Town Stock Exchange, followed by an equivalent number of string inputs represnting the stock selecitons.\n",
    "# Output the total cost of the purchased shares of stock to two decimal places.\n",
    "\n",
    "stocks = {'TSLA': 912.86 , 'BBBY': 24.84, 'AAPL': 174.26, 'SOFI': 6.92, 'KIRK': 8.72, 'AURA': 22.12, 'AMZN': 141.28, 'EMBK': 12.29, 'LVLU': 2.33}\n",
    "\n",
    "number_of_stocks = int(input('Enter the number of shares of stocks:'))\n",
    "\n",
    "cost_of_stocks = 0.0\n",
    "\n",
    "for _ in range(number_of_stocks):\n",
    "    stocks_selected = input().strip()\n",
    "    if stocks_selected in stocks:\n",
    "        cost_of_stocks += stocks[stocks_selected]\n",
    "\n",
    "print(f'Total price: ${cost_of_stocks:.2f}')\n",
    "stocks = {'TSLA': 912.86 , 'BBBY': 24.84, 'AAPL': 174.26, 'SOFI': 6.92, 'KIRK': 8.72, 'AURA': 22.12, 'AMZN': 141.28, 'EMBK': 12.29, 'LVLU': 2.33}\n",
    "\n",
    "cost_of_stocks = 0.0\n",
    "\n",
    "number_stocks = int(input('Enter number of desired shares:'))\n",
    "\n",
    "for _ in range(number_stocks):\n",
    "    stocks_selected = input().strip()\n",
    "    if stocks_selected in stocks:\n",
    "        cost_of_stocks += stocks[stocks_selected]\n",
    "\n",
    "print(f'Total price: ${cost_of_stocks:.2f}')\n",
    "\n",
    "stocks = {'TSLA': 912.86 , 'BBBY': 24.84, 'AAPL': 174.26, 'SOFI': 6.92, 'KIRK': 8.72, 'AURA': 22.12, 'AMZN': 141.28, 'EMBK': 12.29, 'LVLU': 2.33}\n",
    "\n",
    "cost_of_stock = 0.0\n",
    "\n",
    "num_stocks = int(input('Enter number of shares desired:'))\n",
    "\n",
    "for _ in range(num_stocks):\n",
    "    selected = input('Select the stocks you desire:').strip()\n",
    "    if selected in stocks:\n",
    "        cost_of_stock += stocks[selected]\n",
    "\n",
    "print(f'Total price: ${cost_of_stock:.2f}')"
   ]
  },
  {
   "cell_type": "code",
   "execution_count": null,
   "id": "fe8c0c41",
   "metadata": {},
   "outputs": [],
   "source": [
    "# 33.6 Phone Number Breakdown\n",
    "\n",
    "# Given an integer representing a 10-digit phone number, output the area code, prefix, and line number using the format (800) 555-1212\n",
    "# Hint: use % to get the desired rightmost digits\n",
    "# Hint: use // to shift right by the desired amount\n",
    "\n",
    "phone_number = int(input())\n",
    "\n",
    "area = phone_number // 10000000\n",
    "\n",
    "print(f'Area code: {area}')\n",
    "\n",
    "middle = (phone_number // 10000) % 1000\n",
    "\n",
    "print(f'Middle: {middle}')\n",
    "\n",
    "last = phone_number % 10000\n",
    "\n",
    "print(f'Last four: {last}')\n",
    "\n",
    "print(f'({area}){middle}-{last}')\n",
    "\n",
    "# Given an integer representing a 10-digit phone number, output the area code, prefix, and line number using the format (800) 555-1212\n",
    "# Hint: use % to get the desired rightmost digits\n",
    "# Hint: use // to shift right by the desired amount\n",
    "\n",
    "phone_number = int(input())\n",
    "\n",
    "area = phone_number // 10000000\n",
    "\n",
    "middle = (phone_number // 10000) % 1000\n",
    "\n",
    "last = phone_number % 10000\n",
    "\n",
    "print(area)\n",
    "print(middle)\n",
    "print(last)\n",
    "\n",
    "print(f'({area}){middle}-{last}')\n",
    "# Given an integer representing a 10-digit phone number, output the area code, prefix, and line number using the format (800) 555-1212\n",
    "# Hint: use % to get the desired rightmost digits\n",
    "# Hint: use // to shift right by the desired amount\n",
    "\n",
    "phone_number = int(input())\n",
    "\n",
    "area = phone_number // 10000000\n",
    "\n",
    "prefix = (phone_number // 10000 ) % 1000\n",
    "# shift right 4, read only 3 to the right\n",
    "\n",
    "last = phone_number % 10000\n",
    "\n",
    "print(area)\n",
    "print(prefix)\n",
    "print(last)\n",
    "\n",
    "print(f'({area}){prefix}-{last}')"
   ]
  },
  {
   "cell_type": "code",
   "execution_count": null,
   "id": "95e176a5",
   "metadata": {},
   "outputs": [],
   "source": [
    "# 34.8 Try Block with Exception Errors\n",
    "\n",
    "# Create a solution that accepts one integer input representing the index value for any of the string elements in the following list:\n",
    "# frameworks = [\"Django\", \"Flask\", \"CherryPy\", \"Bottle\", \"Web2Py\", \"TurboGears\"]\n",
    "# Output the string element of the index value entered. The solution should be placed in a try block and implement an exception of \"Error\" if an incompatible integer input is provided.\n",
    "\n",
    "frameworks = [\"Django\", \"Flask\", \"CherryPy\", \"Bottle\", \"Web2Py\", \"TurboGears\"]\n",
    "\n",
    "index_value = int(input())\n",
    "\n",
    "for i in frameworks:\n",
    "    if index_value > len(frameworks):\n",
    "        frameworks_element = \"Error\"\n",
    "    else:\n",
    "        frameworks_element = frameworks[index_value]\n",
    "print(frameworks_element)"
   ]
  },
  {
   "cell_type": "code",
   "execution_count": null,
   "id": "c56ffea7",
   "metadata": {},
   "outputs": [],
   "source": [
    "frameworks = [\"Django\", \"Flask\", \"CherryPy\", \"Bottle\", \"Web2Py\", \"TurboGears\"]\n",
    "\n",
    "try:\n",
    "    index_value = int(input())\n",
    "    if index_value < 0:\n",
    "        frameworks_element = \"Error\"\n",
    "    else:\n",
    "        frameworks_element = frameworks[index_value]\n",
    "except ValueError:\n",
    "    frameworks_element = \"Error\"\n",
    "except IndexError:\n",
    "    frameworks_element = \"Error\"\n",
    "\n",
    "print(frameworks_element)\n",
    "frameworks = [\"Django\", \"Flask\", \"CherryPy\", \"Bottle\", \"Web2Py\", \"TurboGears\"]\n",
    "\n",
    "try:\n",
    "    index_value = int(input())\n",
    "    if index_value < 0:\n",
    "        frameworks_element = \"Error\"\n",
    "    else:\n",
    "        frameworks_element = frameworks[index_value]\n",
    "except:\n",
    "    frameworks_element = \"Error\"\n",
    "\n",
    "print(frameworks_element)\n",
    "frameworks = [\"Django\", \"Flask\", \"CherryPy\", \"Bottle\", \"Web2Py\", \"TurboGears\"]\n",
    "\n",
    "try:\n",
    "    index_value = int(input())\n",
    "    if index_value < 0:\n",
    "        frameworks_element = \"Error\"\n",
    "    else:\n",
    "        frameworks_element = frameworks[index_value]\n",
    "except:\n",
    "    frameworks_element = \"Error\"\n",
    "\n",
    "print(frameworks_element)\n",
    "frameworks = [\"Django\", \"Flask\", \"CherryPy\", \"Bottle\", \"Web2Py\", \"TurboGears\"]\n",
    "\n",
    "try:\n",
    "    index_value = int(input())\n",
    "    if index_value < 0:\n",
    "        frameworks_element = \"Error\"\n",
    "    else:\n",
    "        frameworks_element = frameworks[index_value]\n",
    "except:\n",
    "    frameworks_element = \"Error\"\n",
    "\n",
    "print(frameworks_element)"
   ]
  },
  {
   "cell_type": "code",
   "execution_count": 5,
   "id": "c0f07db3",
   "metadata": {},
   "outputs": [
    {
     "name": "stdout",
     "output_type": "stream",
     "text": [
      "Error\n"
     ]
    }
   ],
   "source": [
    "# 34.8 Try Block with Exception Errors\n",
    "\n",
    "# Create a solution that accepts one integer input representing the index value for any of the string elements in the following list:\n",
    "# frameworks = [\"Django\", \"Flask\", \"CherryPy\", \"Bottle\", \"Web2Py\", \"TurboGears\"]\n",
    "# Output the string element of the index value entered. The solution should be placed in a try block and implement an exception of \"Error\" if an incompatible integer input is provided.\n",
    "\n",
    "frameworks = [\"Django\", \"Flask\", \"CherryPy\", \"Bottle\", \"Web2Py\", \"TurboGears\"]\n",
    "\n",
    "try:\n",
    "    index_value = int(input())\n",
    "    if index_value < 0:\n",
    "        frameworks_element = \"Error\"\n",
    "    else:\n",
    "        frameworks_element = frameworks[index_value]\n",
    "except:\n",
    "    frameworks_element = \"Error\"\n",
    "\n",
    "print(frameworks_element)"
   ]
  },
  {
   "cell_type": "code",
   "execution_count": 14,
   "id": "761e6b88",
   "metadata": {},
   "outputs": [
    {
     "name": "stdout",
     "output_type": "stream",
     "text": [
      "CherryPy\n"
     ]
    }
   ],
   "source": [
    "# 34.8 Try Block with Exception Errors\n",
    "\n",
    "# Create a solution that accepts one integer input representing the index value for any of the string elements in the following list:\n",
    "# frameworks = [\"Django\", \"Flask\", \"CherryPy\", \"Bottle\", \"Web2Py\", \"TurboGears\"]\n",
    "# Output the string element of the index value entered. The solution should be placed in a try block and implement an exception of \"Error\" if an incompatible integer input is provided.\n",
    "\n",
    "frameworks = [\"Django\", \"Flask\", \"CherryPy\", \"Bottle\", \"Web2Py\", \"TurboGears\"]\n",
    "\n",
    "index_value = int(input())\n",
    "\n",
    "try:\n",
    "    if index_value < 0:\n",
    "        frameworks_element = \"Error\"\n",
    "    else:\n",
    "        frameworks_element = frameworks[index_value]\n",
    "\n",
    "except:\n",
    "    frameworks_element = \"Error\"\n",
    "\n",
    "print(frameworks_element)"
   ]
  },
  {
   "cell_type": "code",
   "execution_count": 9,
   "id": "425b48ef",
   "metadata": {},
   "outputs": [
    {
     "name": "stdout",
     "output_type": "stream",
     "text": [
      "(888)555-2222\n"
     ]
    }
   ],
   "source": [
    "# 33.6 Phone Number Breakdown\n",
    "\n",
    "# Given an integer representing a 10-digit phone number, output the area code, prefix, and line number using the format (800) 555-1212\n",
    "# Hint: use % to get the desired rightmost digits\n",
    "# Hint: use // to shift right by the desired amount\n",
    "\n",
    "phone_number = int(input())\n",
    "\n",
    "area = phone_number // 10000000\n",
    "\n",
    "prefix = (phone_number // 10000) % 1000\n",
    "\n",
    "line = phone_number % 10000\n",
    "\n",
    "print(f'({area}){prefix}-{line}')\n"
   ]
  },
  {
   "cell_type": "code",
   "execution_count": 7,
   "id": "b9a45a49",
   "metadata": {},
   "outputs": [
    {
     "name": "stdout",
     "output_type": "stream",
     "text": [
      "Total price: $150.53\n"
     ]
    }
   ],
   "source": [
    "# 34.10 Dictionary Key Search\n",
    "\n",
    "# Create a solution that accepts an integer input identifying how many shares of stock are to be purchased from the Old Town Stock Exchange, followed by an equivalent number of string inputs represnting the stock selecitons.\n",
    "# Output the total cost of the purchased shares of stock to two decimal places.\n",
    "\n",
    "stocks = {'TSLA': 912.86 , 'BBBY': 24.84, 'AAPL': 174.26, 'SOFI': 6.92, 'KIRK': 8.72, 'AURA': 22.12, 'AMZN': 141.28, 'EMBK': 12.29, 'LVLU': 2.33}\n",
    "\n",
    "number_of_stocks = int(input())\n",
    "\n",
    "cost_of_stocks = 0.0\n",
    "\n",
    "for _ in range(number_of_stocks):\n",
    "    selected = input()\n",
    "    if selected in stocks:\n",
    "        cost_of_stocks += stocks[selected]\n",
    "\n",
    "print(f'Total price: ${cost_of_stocks:.2F}')"
   ]
  },
  {
   "cell_type": "code",
   "execution_count": 39,
   "id": "a6fe9dc0",
   "metadata": {},
   "outputs": [
    {
     "name": "stdout",
     "output_type": "stream",
     "text": [
      "Total cost: $150.53\n"
     ]
    }
   ],
   "source": [
    "# 34.10 Dictionary Key Search\n",
    "\n",
    "# Create a solution that accepts an integer input identifying how many shares of stock are to be purchased from the Old Town Stock Exchange, followed by an equivalent number of string inputs represnting the stock selecitons.\n",
    "# Output the total cost of the purchased shares of stock to two decimal places.\n",
    "\n",
    "stocks = {'TSLA': 912.86 , 'BBBY': 24.84, 'AAPL': 174.26, 'SOFI': 6.92, 'KIRK': 8.72, 'AURA': 22.12, 'AMZN': 141.28, 'EMBK': 12.29, 'LVLU': 2.33}\n",
    "\n",
    "number_of_stocks = int(input())\n",
    "\n",
    "cost_of_stocks = 0.0\n",
    "\n",
    "for _ in range(number_of_stocks):\n",
    "    selected_stocks = input()\n",
    "    if selected_stocks in stocks:\n",
    "        cost_of_stocks += stocks[selected_stocks]\n",
    "\n",
    "print(f'Total cost: ${cost_of_stocks:.2f}')\n",
    "\n"
   ]
  },
  {
   "cell_type": "code",
   "execution_count": 48,
   "id": "db33bad5",
   "metadata": {},
   "outputs": [
    {
     "name": "stdout",
     "output_type": "stream",
     "text": [
      "(888)555-2222\n"
     ]
    }
   ],
   "source": [
    "# 33.6 Phone Number Breakdown\n",
    "\n",
    "# Given an integer representing a 10-digit phone number, output the area code, prefix, and line number using the format (800) 555-1212\n",
    "# Hint: use % to get the desired rightmost digits\n",
    "# Hint: use // to shift right by the desired amount\n",
    "\n",
    "phone_number = int(input())\n",
    "\n",
    "area = phone_number // 10000000\n",
    "\n",
    "prefix = (phone_number // 10000) % 1000\n",
    "\n",
    "line = phone_number % 10000\n",
    "\n",
    "print(f'({area}){prefix}-{line}')\n"
   ]
  },
  {
   "cell_type": "code",
   "execution_count": 43,
   "id": "cae251ec",
   "metadata": {},
   "outputs": [
    {
     "name": "stdout",
     "output_type": "stream",
     "text": [
      "TurboGears\n"
     ]
    }
   ],
   "source": [
    "# 34.8 Try Block with Exception Errors\n",
    "\n",
    "# Create a solution that accepts one integer input representing the index value for any of the string elements in the following list:\n",
    "# frameworks = [\"Django\", \"Flask\", \"CherryPy\", \"Bottle\", \"Web2Py\", \"TurboGears\"]\n",
    "# Output the string element of the index value entered. The solution should be placed in a try block and implement an exception of \"Error\" if an incompatible integer input is provided.\n",
    "\n",
    "frameworks = [\"Django\", \"Flask\", \"CherryPy\", \"Bottle\", \"Web2Py\", \"TurboGears\"]\n",
    "\n",
    "try:\n",
    "    index_value = int(input())\n",
    "    if index_value < 0:\n",
    "        frameworks_element = \"Error\"\n",
    "    else:\n",
    "        frameworks_element = frameworks[index_value]\n",
    "\n",
    "except:\n",
    "    frameworks_element = \"Error\"\n",
    "\n",
    "print(frameworks_element)\n"
   ]
  },
  {
   "cell_type": "code",
   "execution_count": 36,
   "id": "c3ab1cb7",
   "metadata": {},
   "outputs": [
    {
     "name": "stdout",
     "output_type": "stream",
     "text": [
      "{'a': '100', 'b': '200', 'c': '300'}\n",
      "{'bananas': '1.85', 'steak': '19.99', 'cookies': '4.52'}\n"
     ]
    }
   ],
   "source": [
    "# 34.13 Manipulate CSV Files\n",
    "\n",
    "# Creat a solution that accepts an input identifying the name of a CSV file, for example, \"input1.csv\". Each file contains two rows of comma-separated values.\n",
    "# Import the built-in module csv and use its open() function and reader() method to create a dictionary of key:value pairs for each row of comma-separated values in the specified field.\n",
    "# Output the file contents as two dictionaries\n",
    "\n",
    "import csv\n",
    "\n",
    "input1 = input()\n",
    "\n",
    "with open(input1, \"r\", newline = \"\") as csvfile:\n",
    "    reader = csv.reader(csvfile)\n",
    "    row1 = next(reader, None)\n",
    "    row2 = next(reader, None)\n",
    "    \n",
    "    if row1 is None or row2 is None:\n",
    "        print(\"Error\")\n",
    "\n",
    "dict1 = {}\n",
    "\n",
    "for i in range(0, len(row1), 2):\n",
    "    if i + 1 < len(row1):\n",
    "        dict1[row1[i].strip()] = row1[i + 1].strip()\n",
    "\n",
    "print(dict1)\n",
    "\n",
    "dict2 = {}\n",
    "\n",
    "for i in range(0, len(row2), 2):\n",
    "    if i + 1 < len(row2):\n",
    "        dict2[row2[i].strip()] = row2[i + 1].strip()\n",
    "\n",
    "print(dict2)"
   ]
  },
  {
   "cell_type": "code",
   "execution_count": 37,
   "id": "5ce84249",
   "metadata": {},
   "outputs": [
    {
     "name": "stdout",
     "output_type": "stream",
     "text": [
      "{'a': '100', 'b': '200', 'c': '300'}\n",
      "{'bananas': '1.85', 'steak': '19.99', 'cookies': '4.52'}\n"
     ]
    }
   ],
   "source": [
    "# 34.13 Manipulate CSV Files\n",
    "\n",
    "# Creat a solution that accepts an input identifying the name of a CSV file, for example, \"input1.csv\". Each file contains two rows of comma-separated values.\n",
    "# Import the built-in module csv and use its open() function and reader() method to create a dictionary of key:value pairs for each row of comma-separated values in the specified field.\n",
    "# Output the file contents as two dictionaries\n",
    "\n",
    "import csv\n",
    "\n",
    "input1 = input()\n",
    "\n",
    "with open(input1, \"r\", newline = \"\") as csvfile:\n",
    "    reader = csv.reader(csvfile)\n",
    "    row1 = next(reader, None)\n",
    "    row2 = next(reader, None)\n",
    "\n",
    "    if row1 is None or row2 is None:\n",
    "        print(\"Error\")\n",
    "\n",
    "dict1 = {}\n",
    "\n",
    "for i in range(0, len(row1), 2):\n",
    "    if i + 1 < len(row1):\n",
    "        dict1[row1[i].strip()] = row1[i + 1].strip()\n",
    "\n",
    "print(dict1)\n",
    "\n",
    "dict2 = {}\n",
    "\n",
    "for i in range(0, len(row2), 2):\n",
    "    if i + 1 < len(row2):\n",
    "        dict2[row2[i].strip()] = row2[i + 1].strip()\n",
    "\n",
    "print(dict2)"
   ]
  },
  {
   "cell_type": "code",
   "execution_count": 29,
   "id": "ae0eb20d",
   "metadata": {},
   "outputs": [
    {
     "ename": "KeyboardInterrupt",
     "evalue": "Interrupted by user",
     "output_type": "error",
     "traceback": [
      "\u001b[31m---------------------------------------------------------------------------\u001b[39m",
      "\u001b[31mKeyboardInterrupt\u001b[39m                         Traceback (most recent call last)",
      "\u001b[36mCell\u001b[39m\u001b[36m \u001b[39m\u001b[32mIn[29]\u001b[39m\u001b[32m, line 9\u001b[39m\n\u001b[32m      1\u001b[39m \u001b[38;5;66;03m# 34.13 Manipulate CSV Files\u001b[39;00m\n\u001b[32m      2\u001b[39m \n\u001b[32m      3\u001b[39m \u001b[38;5;66;03m# Creat a solution that accepts an input identifying the name of a CSV file, for example, \"input1.csv\". Each file contains two rows of comma-separated values.\u001b[39;00m\n\u001b[32m      4\u001b[39m \u001b[38;5;66;03m# Import the built-in module csv and use its open() function and reader() method to create a dictionary of key:value pairs for each row of comma-separated values in the specified field.\u001b[39;00m\n\u001b[32m      5\u001b[39m \u001b[38;5;66;03m# Output the file contents as two dictionaries\u001b[39;00m\n\u001b[32m      7\u001b[39m \u001b[38;5;28;01mimport\u001b[39;00m\u001b[38;5;250m \u001b[39m\u001b[34;01mcsv\u001b[39;00m\n\u001b[32m----> \u001b[39m\u001b[32m9\u001b[39m input1 = \u001b[38;5;28;43minput\u001b[39;49m\u001b[43m(\u001b[49m\u001b[43m)\u001b[49m\n\u001b[32m     11\u001b[39m \u001b[38;5;28;01mwith\u001b[39;00m \u001b[38;5;28mopen\u001b[39m(input1, \u001b[33m\"\u001b[39m\u001b[33mr\u001b[39m\u001b[33m\"\u001b[39m, newline=\u001b[33m\"\u001b[39m\u001b[33m\"\u001b[39m) \u001b[38;5;28;01mas\u001b[39;00m csvfile:\n\u001b[32m     12\u001b[39m     reader = csv.reader(csvfile)\n",
      "\u001b[36mFile \u001b[39m\u001b[32m~\\AppData\\Roaming\\Python\\Python313\\site-packages\\ipykernel\\kernelbase.py:1282\u001b[39m, in \u001b[36mKernel.raw_input\u001b[39m\u001b[34m(self, prompt)\u001b[39m\n\u001b[32m   1280\u001b[39m     msg = \u001b[33m\"\u001b[39m\u001b[33mraw_input was called, but this frontend does not support input requests.\u001b[39m\u001b[33m\"\u001b[39m\n\u001b[32m   1281\u001b[39m     \u001b[38;5;28;01mraise\u001b[39;00m StdinNotImplementedError(msg)\n\u001b[32m-> \u001b[39m\u001b[32m1282\u001b[39m \u001b[38;5;28;01mreturn\u001b[39;00m \u001b[38;5;28;43mself\u001b[39;49m\u001b[43m.\u001b[49m\u001b[43m_input_request\u001b[49m\u001b[43m(\u001b[49m\n\u001b[32m   1283\u001b[39m \u001b[43m    \u001b[49m\u001b[38;5;28;43mstr\u001b[39;49m\u001b[43m(\u001b[49m\u001b[43mprompt\u001b[49m\u001b[43m)\u001b[49m\u001b[43m,\u001b[49m\n\u001b[32m   1284\u001b[39m \u001b[43m    \u001b[49m\u001b[38;5;28;43mself\u001b[39;49m\u001b[43m.\u001b[49m\u001b[43m_parent_ident\u001b[49m\u001b[43m[\u001b[49m\u001b[33;43m\"\u001b[39;49m\u001b[33;43mshell\u001b[39;49m\u001b[33;43m\"\u001b[39;49m\u001b[43m]\u001b[49m\u001b[43m,\u001b[49m\n\u001b[32m   1285\u001b[39m \u001b[43m    \u001b[49m\u001b[38;5;28;43mself\u001b[39;49m\u001b[43m.\u001b[49m\u001b[43mget_parent\u001b[49m\u001b[43m(\u001b[49m\u001b[33;43m\"\u001b[39;49m\u001b[33;43mshell\u001b[39;49m\u001b[33;43m\"\u001b[39;49m\u001b[43m)\u001b[49m\u001b[43m,\u001b[49m\n\u001b[32m   1286\u001b[39m \u001b[43m    \u001b[49m\u001b[43mpassword\u001b[49m\u001b[43m=\u001b[49m\u001b[38;5;28;43;01mFalse\u001b[39;49;00m\u001b[43m,\u001b[49m\n\u001b[32m   1287\u001b[39m \u001b[43m\u001b[49m\u001b[43m)\u001b[49m\n",
      "\u001b[36mFile \u001b[39m\u001b[32m~\\AppData\\Roaming\\Python\\Python313\\site-packages\\ipykernel\\kernelbase.py:1325\u001b[39m, in \u001b[36mKernel._input_request\u001b[39m\u001b[34m(self, prompt, ident, parent, password)\u001b[39m\n\u001b[32m   1322\u001b[39m \u001b[38;5;28;01mexcept\u001b[39;00m \u001b[38;5;167;01mKeyboardInterrupt\u001b[39;00m:\n\u001b[32m   1323\u001b[39m     \u001b[38;5;66;03m# re-raise KeyboardInterrupt, to truncate traceback\u001b[39;00m\n\u001b[32m   1324\u001b[39m     msg = \u001b[33m\"\u001b[39m\u001b[33mInterrupted by user\u001b[39m\u001b[33m\"\u001b[39m\n\u001b[32m-> \u001b[39m\u001b[32m1325\u001b[39m     \u001b[38;5;28;01mraise\u001b[39;00m \u001b[38;5;167;01mKeyboardInterrupt\u001b[39;00m(msg) \u001b[38;5;28;01mfrom\u001b[39;00m\u001b[38;5;250m \u001b[39m\u001b[38;5;28;01mNone\u001b[39;00m\n\u001b[32m   1326\u001b[39m \u001b[38;5;28;01mexcept\u001b[39;00m \u001b[38;5;167;01mException\u001b[39;00m:\n\u001b[32m   1327\u001b[39m     \u001b[38;5;28mself\u001b[39m.log.warning(\u001b[33m\"\u001b[39m\u001b[33mInvalid Message:\u001b[39m\u001b[33m\"\u001b[39m, exc_info=\u001b[38;5;28;01mTrue\u001b[39;00m)\n",
      "\u001b[31mKeyboardInterrupt\u001b[39m: Interrupted by user"
     ]
    }
   ],
   "source": [
    "# 34.13 Manipulate CSV Files\n",
    "\n",
    "# Creat a solution that accepts an input identifying the name of a CSV file, for example, \"input1.csv\". Each file contains two rows of comma-separated values.\n",
    "# Import the built-in module csv and use its open() function and reader() method to create a dictionary of key:value pairs for each row of comma-separated values in the specified field.\n",
    "# Output the file contents as two dictionaries\n",
    "\n",
    "import csv\n",
    "\n",
    "input1 = input()\n",
    "\n",
    "with open(input1, \"r\", newline=\"\") as csvfile:\n",
    "    reader = csv.reader(csvfile)\n",
    "    row1data = next(reader, None)\n",
    "    row2data = next(reader, None)\n",
    "\n",
    "    if row1data is None or row2data is None:\n",
    "        print(f'Error')\n",
    "\n",
    "dict1 = {}\n",
    "\n",
    "for i in range(0, len(row1data), 2):\n",
    "    if i + 1 < len(row1data):\n",
    "        dict1[row1data[i].strip()] = row1data[i + 1].strip()\n",
    "\n",
    "dict2 = {}\n",
    "\n",
    "for i in range(0, len(row2data), 2):\n",
    "    if i + 1 < len(row2data):\n",
    "        dict2[row2data[i].strip()] = row2data[i + 1].strip()\n",
    "\n",
    "print(dict1)\n",
    "print(dict2)"
   ]
  },
  {
   "cell_type": "code",
   "execution_count": 21,
   "id": "404e6a4e",
   "metadata": {},
   "outputs": [
    {
     "name": "stdout",
     "output_type": "stream",
     "text": [
      "{'a': '100', 'b': '200', 'c': '300'}\n",
      "{'bananas': '1.85', 'steak': '19.99', 'cookies': '4.52'}\n"
     ]
    }
   ],
   "source": [
    "import csv\n",
    "\n",
    "input1 = input()\n",
    "\n",
    "with open(input1, \"r\", newline=\"\") as csvfile:\n",
    "    reader = csv.reader(csvfile)\n",
    "    row1data = next(reader, None)\n",
    "    row2data = next(reader, None)\n",
    "\n",
    "    if row1data is None or row2data is None:\n",
    "        print(f'Error')\n",
    "\n",
    "dict1 = {}\n",
    "\n",
    "for i in range(0, len(row1data), 2):\n",
    "    if i + 1 < len(row1data):\n",
    "        dict1[row1data[i].strip()] = row1data[i + 1].strip()\n",
    "\n",
    "print(dict1)\n",
    "\n",
    "dict2 = {}\n",
    "\n",
    "for i in range(0, len(row2data), 2):\n",
    "    if i + 1 < len(row2data):\n",
    "        dict2[row2data[i].strip()] = row2data[i + 1].strip()\n",
    "\n",
    "print(dict2)\n"
   ]
  },
  {
   "cell_type": "code",
   "execution_count": 23,
   "id": "e165d5ce",
   "metadata": {},
   "outputs": [
    {
     "name": "stdout",
     "output_type": "stream",
     "text": [
      "{'a': '100', 'b': '200', 'c': '300'}\n",
      "{'bananas': '1.85', 'steak': '19.99', 'cookies': '4.52'}\n"
     ]
    }
   ],
   "source": [
    "import csv\n",
    "\n",
    "input1 = input()\n",
    "\n",
    "with open(input1, \"r\", newline = \"\")as csvfile:\n",
    "    reader = csv.reader(csvfile)\n",
    "    row1data = next(reader,None)\n",
    "    row2data = next(reader,None)\n",
    "\n",
    "    if row1data is None or row2data is None:\n",
    "        print(f'Error')\n",
    "\n",
    "dict1 = {}\n",
    "\n",
    "for i in range(0, len(row1data), 2):\n",
    "    if i + 1 < len(row1data):\n",
    "        dict1[row1data[i].strip()] = row1data[i + 1].strip()\n",
    "\n",
    "print(dict1)\n",
    "\n",
    "dict2 = {}\n",
    "\n",
    "for i in range(0, len(row2data), 2):\n",
    "    if i + 1 < len(row2data):\n",
    "        dict2[row2data[i].strip()] = row2data[i + 1].strip()\n",
    "\n",
    "print(dict2)"
   ]
  },
  {
   "cell_type": "code",
   "execution_count": 25,
   "id": "b6facf19",
   "metadata": {},
   "outputs": [
    {
     "name": "stdout",
     "output_type": "stream",
     "text": [
      "{'a': '100', 'b': '200', 'c': '300'}\n",
      "{'bananas': '1.85', 'steak': '19.99', 'cookies': '4.52'}\n"
     ]
    }
   ],
   "source": [
    "import csv\n",
    "\n",
    "input1 = input()\n",
    "\n",
    "with open(input1, \"r\", newline = \"\") as csvfile:\n",
    "    csvread = csv.reader(csvfile)\n",
    "    row1data = next(csvread, None)\n",
    "    row2data = next(csvread, None)\n",
    "\n",
    "    if row1data is None or row2data is None:\n",
    "        output = \"Error\"\n",
    "\n",
    "dict1 = {}\n",
    "\n",
    "for i in range(0, len(row1data), 2):\n",
    "    if i + 1 < len(row1data):\n",
    "        dict1[row1data[i].strip()] = row1data[i + 1].strip()\n",
    "\n",
    "print(dict1)\n",
    "\n",
    "dict2 = {}\n",
    "\n",
    "for i in range(0, len(row2data), 2):\n",
    "    if i + 1 < len(row2data):\n",
    "        dict2[row2data[i].strip()] = row2data[i+1].strip()\n",
    "\n",
    "print(dict2)\n"
   ]
  },
  {
   "cell_type": "code",
   "execution_count": 27,
   "id": "3693384d",
   "metadata": {},
   "outputs": [
    {
     "name": "stdout",
     "output_type": "stream",
     "text": [
      "{'a': '100', 'b': '200', 'c': '300'}\n",
      "{'bananas': '1.85', 'steak': '19.99', 'cookies': '4.52'}\n"
     ]
    }
   ],
   "source": [
    "import csv\n",
    "\n",
    "input1 = input()\n",
    "\n",
    "with open(input1, \"r\", newline=\"\") as csvfile:\n",
    "    reader = csv.reader(csvfile)\n",
    "    row1data = next(reader, None)\n",
    "    row2data = next(reader, None)\n",
    "\n",
    "    if row1data is None or row2data is None:\n",
    "        print(f\"Error\")\n",
    "\n",
    "dict1 = {}\n",
    "\n",
    "for i in range(0, len(row1data), 2):\n",
    "    if i + 1 < len(row1data):\n",
    "        dict1[row1data[i].strip()] = row1data[i+1].strip()\n",
    "\n",
    "print(dict1)\n",
    "\n",
    "dict2 = {}\n",
    "\n",
    "for i in range(0, len(row2data), 2):\n",
    "    if i + 1 < len(row2data):\n",
    "        dict2[row2data[i].strip()] = row2data[i+1].strip()\n",
    "\n",
    "print(dict2)"
   ]
  },
  {
   "cell_type": "code",
   "execution_count": 28,
   "id": "86b06f57",
   "metadata": {},
   "outputs": [
    {
     "name": "stdout",
     "output_type": "stream",
     "text": [
      "{'a': '100', 'b': '200', 'c': '300'}\n",
      "{'bananas': '1.85', 'steak': '19.99', 'cookies': '4.52'}\n"
     ]
    }
   ],
   "source": [
    "import csv\n",
    "\n",
    "input1 = input()\n",
    "\n",
    "with open(input1, \"r\", newline=\"\") as csvfile:\n",
    "    reader = csv.reader(csvfile)\n",
    "    row1data = next(reader, None)\n",
    "    row2data = next(reader, None)\n",
    "\n",
    "    if row1data is None or row2data is None:\n",
    "        print(f'Error')\n",
    "\n",
    "dict1 = {}\n",
    "\n",
    "for i in range(0, len(row1data), 2):\n",
    "    if i + 1 < len(row1data):\n",
    "        dict1[row1data[i].strip()] = row1data[i + 1].strip()\n",
    "\n",
    "print(dict1)\n",
    "\n",
    "dict2 = {}\n",
    "\n",
    "for i in range(0, len(row2data), 2):\n",
    "    if i + 1 < len(row2data):\n",
    "        dict2[row2data[i].strip()] = row2data[i+1].strip()\n",
    "\n",
    "print(dict2)\n",
    "    "
   ]
  },
  {
   "cell_type": "code",
   "execution_count": null,
   "id": "31c8fca9",
   "metadata": {},
   "outputs": [],
   "source": []
  },
  {
   "cell_type": "code",
   "execution_count": 32,
   "id": "65ffb62c",
   "metadata": {},
   "outputs": [
    {
     "name": "stdout",
     "output_type": "stream",
     "text": [
      "{'a': '100', 'b': '200', 'c': '300'}\n",
      "{'bananas': '1.85', 'steak': '19.99', 'cookies': '4.52'}\n"
     ]
    }
   ],
   "source": [
    "# 34.13 Manipulate CSV Files\n",
    "\n",
    "# Creat a solution that accepts an input identifying the name of a CSV file, for example, \"input1.csv\". Each file contains two rows of comma-separated values.\n",
    "# Import the built-in module csv and use its open() function and reader() method to create a dictionary of key:value pairs for each row of comma-separated values in the specified field.\n",
    "# Output the file contents as two dictionaries\n",
    "\n",
    "input1 = input()\n",
    "\n",
    "with open(input1, \"r\", newline = \"\") as csvfile:\n",
    "    reader = csv.reader(csvfile)\n",
    "    row1data = next(reader, None)\n",
    "    row2data = next(reader, None)\n",
    "\n",
    "    if row1data is None or row2data is None:\n",
    "        print(\"Error\")\n",
    "\n",
    "dict1 = {}\n",
    "\n",
    "for i in range(0, len(row1data), 2):\n",
    "    if i + 1 < len(row1data):\n",
    "        dict1[row1data[i].strip()] = row1data[i + 1].strip()\n",
    "print(dict1)\n",
    "\n",
    "dict2 = {}\n",
    "\n",
    "for i in range(0, len(row2data), 2):\n",
    "    if i + 1 < len(row2data):\n",
    "        dict2[row2data[i].strip()] = row2data[i + 1].strip()\n",
    "print(dict2)"
   ]
  },
  {
   "cell_type": "code",
   "execution_count": 35,
   "id": "d48bfcc9",
   "metadata": {},
   "outputs": [
    {
     "name": "stdout",
     "output_type": "stream",
     "text": [
      "{'a': '100', 'b': '200', 'c': '300'}\n",
      "{'bananas': '1.85', 'steak': '19.99', 'cookies': '4.52'}\n"
     ]
    }
   ],
   "source": [
    "import csv\n",
    "\n",
    "input1 = input()\n",
    "\n",
    "with open(input1, \"r\", newline = \"\") as csvfile:\n",
    "    reader = csv.reader(csvfile)\n",
    "    row1 = next(reader, None)\n",
    "    row2 = next(reader, None)\n",
    "\n",
    "    if row1 is None or row2 is None:\n",
    "        print(f'Error')\n",
    "\n",
    "dict1 = {}\n",
    "\n",
    "for i in range(0, len(row1), 2):\n",
    "    if i + 1 < len(row1):\n",
    "        dict1[row1[i].strip()] = row1[i + 1].strip()\n",
    "print(dict1)\n",
    "\n",
    "dict2 = {}\n",
    "\n",
    "for i in range(0, len(row2), 2):\n",
    "    if i + 1 < len(row2):\n",
    "        dict2[row2[i].strip()] = row2[i + 1].strip()\n",
    "print(dict2)"
   ]
  },
  {
   "cell_type": "code",
   "execution_count": null,
   "id": "22d405ad",
   "metadata": {},
   "outputs": [],
   "source": []
  }
 ],
 "metadata": {
  "kernelspec": {
   "display_name": "Python 3",
   "language": "python",
   "name": "python3"
  },
  "language_info": {
   "codemirror_mode": {
    "name": "ipython",
    "version": 3
   },
   "file_extension": ".py",
   "mimetype": "text/x-python",
   "name": "python",
   "nbconvert_exporter": "python",
   "pygments_lexer": "ipython3",
   "version": "3.13.3"
  }
 },
 "nbformat": 4,
 "nbformat_minor": 5
}
