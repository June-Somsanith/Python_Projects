{
 "cells": [
  {
   "cell_type": "code",
   "execution_count": null,
   "id": "64d08e58",
   "metadata": {},
   "outputs": [
    {
     "name": "stdout",
     "output_type": "stream",
     "text": [
      "Distance: 197.33 miles\n"
     ]
    }
   ],
   "source": [
    "# *** 34.1 Assign variables, mathematical operations\n",
    "\n",
    "# Create a solution that accepts three integer inputs representing the number of times an employee travels to a job site.\n",
    "# Output the total distance traveled to two decimal places given the following miles per employee commute to the job site. Output the total distance traveled to two decimal places given the following miles per employee commute to the job site:\n",
    "# Employee A: 15.62 miles\n",
    "# Employee B: 41.85 miles\n",
    "# Employee C: 32.67 miles\n",
    "\n",
    "# output: Distance: total_miles_traveled miles\n",
    "\n",
    "emp_a = float(input())\n",
    "\n",
    "emp_b = float(input())\n",
    "\n",
    "emp_c = float(input())\n",
    "\n",
    "total_distance = (emp_a * 15.62) + (emp_b * 41.85) + (emp_c * 32.67)\n",
    "\n",
    "print(f'Distance: {total_distance:.2f} miles')\n",
    "\n",
    "\n"
   ]
  },
  {
   "cell_type": "code",
   "execution_count": null,
   "id": "2f70de56",
   "metadata": {},
   "outputs": [],
   "source": [
    "# *** 34.2 Assign variables, modulus operator (%)\n",
    "\n",
    "# Create a solution that accepts an integer input representing any number of ounces. Output the converted total number of tons, pounds, and remaining ounces based on the input ounces value. There are 16 ounces in a pound and 2,000 pounds in a ton.\n",
    "\n",
    "# output: Tons: value_1\n",
    "# Pounds: value_2\n",
    "# Ounces: value_3\n",
    "\n",
    "number_ounces = int(input())\n",
    "\n",
    "tons = int(number_ounces / (16 * 2000))\n",
    "tons_rem = number_ounces % (16 * 2000)\n",
    "\n",
    "print(f'Tons: {tons}')\n",
    "\n",
    "pounds = tons_rem / 16\n",
    "ounces = tons_rem % 16\n",
    "\n",
    "print(f'Pounds: {pounds:.0f}')\n",
    "print(f'Ounces: {ounces:.0f}')\n",
    "\n"
   ]
  },
  {
   "cell_type": "code",
   "execution_count": null,
   "id": "a14b6339",
   "metadata": {},
   "outputs": [
    {
     "name": "stdout",
     "output_type": "stream",
     "text": [
      "Element 3: str\n"
     ]
    }
   ],
   "source": [
    "# *** 34.3 Formatted output of data type\n",
    "\n",
    "# Create a solution that accepts an integer input representing the index value for any of hte five elements in the following list:\n",
    "# various_data_types = [516, 112.49, True, \"meow\", (\"Western\", \"Governors\", \"University\"), {\"apple\": 1, \"pear\": 5}]\n",
    "#Using the built-in function type() and getting its name by using the .name attribute, output data type (e.g., int”, “float”, “bool”, “str”) based on the input index value of the list element.\n",
    "\n",
    "# output: Element index_value: data_type\n",
    "\n",
    "various_data_types = [516, 112.49, True, \"meow\", (\"Western\", \"Governors\", \"University\"), {\"apple\": 1, \"pear\": 5}]\n",
    "\n",
    "#use built-in function type()\n",
    "#get name by using the built-in attribute __name__\n",
    "#solution accepts integer input representing list element index\n",
    "#solution outputs data type of list element based on input index value\n",
    "\n",
    "index_value = int(input())\n",
    "\n",
    "if index_value < len(various_data_types):\n",
    "    element = various_data_types[index_value]\n",
    "    data_type = type(element).__name__\n",
    "\n",
    "\n",
    "\n",
    "print(f'Element {index_value}: {data_type}')\n"
   ]
  },
  {
   "cell_type": "code",
   "execution_count": 19,
   "id": "dbc68c50",
   "metadata": {},
   "outputs": [
    {
     "name": "stdout",
     "output_type": "stream",
     "text": [
      "Trapezoid area: 28.0 square meters\n"
     ]
    }
   ],
   "source": [
    "# 34.4 Data types in formulas\n",
    "\n",
    "# Create a solution that accepts any three integer inputs represnting the base (b1, b2) and height (h) measurements of a trapezoid in meters.\n",
    "# Output the exact area of hte trapezoid in square meters as a float value. The exact area of a trapezoid can be calculated by finding the average of the two base measurements, then multiplying by the base height measurement.\n",
    "\n",
    "# Trapezoid Area Formula:\n",
    "# A = [(b1 + b2) / 2] * h\n",
    "\n",
    "# ouput: Trapezoid area: area_value square meters\n",
    "\n",
    "b1 = int(input())\n",
    "b2 = int(input())\n",
    "h = int(input())\n",
    "\n",
    "A = ((b1 + b2) / 2 ) * h\n",
    "\n",
    "print(f'Trapezoid area: {A} square meters')\n"
   ]
  },
  {
   "cell_type": "code",
   "execution_count": null,
   "id": "9b5d1085",
   "metadata": {},
   "outputs": [
    {
     "name": "stdout",
     "output_type": "stream",
     "text": [
      "Integer: 19\n",
      "Float: 19.0\n",
      "String: 13627\n"
     ]
    }
   ],
   "source": [
    "# *** 34.5 Data type conversions\n",
    "\n",
    "# Create a solution that accepts five integer inputs. Output the sum of the five inputs 3 times, converting the inputs to the requested data type prior to finding the sum.\n",
    "# First output: sum of five inputs maintained as integer values\n",
    "# Second output: sum of five inputs converted to float values\n",
    "# Third output: sum of five inputs converted to string values (concatenate)\n",
    "\n",
    "input1 = int(input())\n",
    "input2 = int(input())\n",
    "input3 = int(input())\n",
    "input4 = int(input())\n",
    "input5 = int(input())\n",
    "\n",
    "# Integer: integer_sum_value\n",
    "\n",
    "i_s_v = int(input1 + input2 + input3 + input4 + input5)\n",
    "\n",
    "print(f'Integer: {i_s_v}')\n",
    "\n",
    "# Float: float_sum_value\n",
    "\n",
    "f_s_v = float(input1 + input2 + input3 + input4 + input5)\n",
    "\n",
    "print(f'Float: {f_s_v}')\n",
    "\n",
    "# String: string_sum_value\n",
    "\n",
    "numbers_string = [input1, input2, input3, input4, input5]\n",
    "\n",
    "s_s_v = \"\".join(str(num) for num in numbers_string)\n",
    "\n",
    "print(f'String: {s_s_v}')"
   ]
  },
  {
   "cell_type": "code",
   "execution_count": null,
   "id": "32d7a01c",
   "metadata": {},
   "outputs": [],
   "source": [
    "# 33.6 Phone Number Breakdown\n",
    "\n",
    "# Given an integer representing a 10-digit phone number, output the area code, prefix, and line number using the format (800) 555-1212\n",
    "# Hint: use % to get the desired rightmost digits\n",
    "# Hint: use // to shift right by the desired amount\n",
    "\n",
    "phone_number = int(input())"
   ]
  },
  {
   "cell_type": "code",
   "execution_count": null,
   "id": "b8cb8cbd",
   "metadata": {},
   "outputs": [
    {
     "name": "stdout",
     "output_type": "stream",
     "text": [
      "Greater Than Max? False\n"
     ]
    }
   ],
   "source": [
    "# 34.7 Comparison operations with Boolean Values\n",
    "\n",
    "# Create a solution that accepts an integer input to compare against the following list:\n",
    "\n",
    "# predef_list = [4, -27, 15, 33, -10]\n",
    "\n",
    "# Greater Than Max? Boolean_value\n",
    "\n",
    "predef_list = [4, -27, 15, 33, -10]\n",
    "\n",
    "input1 = int(input())\n",
    "\n",
    "predef_list_max = max(predef_list)\n",
    "\n",
    "if input1 < predef_list_max:\n",
    "    Boolean_value = False\n",
    "else:\n",
    "    Boolean_value = True\n",
    "\n",
    "print(f'Greater Than Max? {Boolean_value}')\n",
    "\n"
   ]
  },
  {
   "cell_type": "code",
   "execution_count": 28,
   "id": "ae1383aa",
   "metadata": {},
   "outputs": [
    {
     "name": "stdout",
     "output_type": "stream",
     "text": [
      "TurboGears\n"
     ]
    }
   ],
   "source": [
    "# 34.8 Try Block with Exception Errors\n",
    "\n",
    "# Create a solution that accepts one integer input representing the index value for any of the string elements in the following list:\n",
    "# frameworks = [\"Django\", \"Flask\", \"CherryPy\", \"Bottle\", \"Web2Py\", \"TurboGears\"]\n",
    "# Output the string element of the index value entered. The solution should be placed in a try block and implement an exception of \"Error\" if an incompatible integer input is provided.\n",
    "\n",
    "frameworks = [\"Django\", \"Flask\", \"CherryPy\", \"Bottle\", \"Web2Py\", \"TurboGears\"]\n",
    "\n",
    "try:\n",
    "    index_value = int(input())\n",
    "    if index_value < 0:\n",
    "        frameworks_element = \"Error\"\n",
    "    else:\n",
    "        frameworks_element = frameworks[index_value]\n",
    "except:\n",
    "    frameworks_element = \"Error\"\n",
    "\n",
    "print(frameworks_element)"
   ]
  },
  {
   "cell_type": "code",
   "execution_count": null,
   "id": "8517b4db",
   "metadata": {},
   "outputs": [],
   "source": [
    "# 34.9 Branching conditional logic\n",
    "# Create a solution that accepts an integer input representing water temperature in degrees fahrenheit.\n",
    "# Output a description of the water state based on the following scale:\n",
    "\n",
    "# If the temperature is below 33° F, the water is “Frozen”.\n",
    "# If the water is between 33° F and 80° F (including 33), the water is “Cold”.\n",
    "# If the water is between 80° F and 115° F (including 80), the water is \"Warm\".\n",
    "# If the water is between 115° F and 211° (including 115) F, the water is “Hot\".\n",
    "# If the water is greater than or equal to 212° F, the water is “Boiling”.\n",
    "# Additionally, output a safety comment only during the following circumstances:\n",
    "\n",
    "# If the water is exactly 212° F, the safety comment is \"Caution: Hot!\"\n",
    "# If the water temperature is less than 33° F, the safety comment is \"Watch out for ice!\"\n",
    "# The solution output should be in the format\n",
    "# water_state\n",
    "# optional_safety_comment"
   ]
  },
  {
   "cell_type": "code",
   "execution_count": 34,
   "id": "4dfb8fbe",
   "metadata": {},
   "outputs": [
    {
     "name": "stdout",
     "output_type": "stream",
     "text": [
      "150.53\n"
     ]
    }
   ],
   "source": [
    "# 34.10 Dictionary Key Search\n",
    "\n",
    "# Create a solution that accepts an integer input identifying how many shares of stock are to be purchased from the Old Town Stock Exchange, followed by an equivalent number of string inputs represnting the stock selecitons.\n",
    "# Output the total cost of the purchased shares of stock to two decimal places.\n",
    "\n",
    "stocks = {'TSLA': 912.86 , 'BBBY': 24.84, 'AAPL': 174.26, 'SOFI': 6.92, 'KIRK': 8.72, 'AURA': 22.12, 'AMZN': 141.28, 'EMBK': 12.29, 'LVLU': 2.33}\n",
    "\n",
    "number_of_stocks = int(input())\n",
    "\n",
    "cost_of_stocks = 0.0\n",
    "\n",
    "for _ in range(number_of_stocks):\n",
    "    if number_of_stocks < len(stocks):\n",
    "        selected = input()\n",
    "        cost_of_stocks += stocks[selected]\n",
    "print(f'{cost_of_stocks:.2f}')\n"
   ]
  },
  {
   "cell_type": "code",
   "execution_count": 41,
   "id": "dc7e1064",
   "metadata": {},
   "outputs": [
    {
     "name": "stdout",
     "output_type": "stream",
     "text": [
      "cookies $585.79\n"
     ]
    }
   ],
   "source": [
    "# 34.11 Dictionary conditional logic\n",
    "\n",
    "# Create a solution that accepts a string input representing a grocery store item and an integer input identifying the number of items purchased on a recent visit. \n",
    "# The following dictionary \"purchase\" lists available items as the key with the cost per item as the value.\n",
    "# purchase = {\"bananas\": 1.85, \"steak\": 19.99, \"cookies\": 4.52, \"celery\": 2.81, \"milk\": 4.34}\n",
    "# Additionally,\n",
    "\n",
    "# If fewer than ten items are purchased, the price is the full cost per item.\n",
    "# If between ten and twenty items (inclusive) are purchased, the purchase gets a 5% discount.\n",
    "# If twenty-one or more items are purchased, the purchase gets a 10% discount.\n",
    "# Output the chosen item and total cost of the purchase to two decimal places.\n",
    "# item_purchased $total_purchase_cost\n",
    "\n",
    "purchase = {\"bananas\": 1.85, \"steak\": 19.99, \"cookies\": 4.52, \"celery\": 2.81, \"milk\": 4.34}\n",
    "\n",
    "store_item = input()\n",
    "\n",
    "number_of_items = int(input())\n",
    "\n",
    "potential_purchase_cost = purchase[store_item] * number_of_items\n",
    "\n",
    "if number_of_items < 10:\n",
    "    total_purchase_cost = potential_purchase_cost\n",
    "elif 10 <= number_of_items <= 20:\n",
    "    total_purchase_cost = potential_purchase_cost - (potential_purchase_cost * .05)\n",
    "elif 21 < number_of_items:\n",
    "    total_purchase_cost = potential_purchase_cost - (potential_purchase_cost * .1)\n",
    "\n",
    "print(f'{store_item} ${total_purchase_cost:.2f}')"
   ]
  },
  {
   "cell_type": "code",
   "execution_count": null,
   "id": "cef2c0ce",
   "metadata": {},
   "outputs": [
    {
     "name": "stdout",
     "output_type": "stream",
     "text": [
      "{'a': '100', 'b': '200', 'c': '300'}\n",
      "{'bananas': '1.85', 'steak': '19.99', 'cookies': '4.52'}\n"
     ]
    }
   ],
   "source": [
    "# * 34.13 Manipulate CSV Files\n",
    "\n",
    "# Creat a solution that accepts an input identifying the name of a CSV file, for example, \"input1.csv\". Each file contains two rows of comma-separated values.\n",
    "# Import the built-in module csv and use its open() function and reader() method to create a dictionary of key:value pairs for each row of comma-separated values in the specified field.\n",
    "# Output the file contents as two dictionaries\n",
    "\n",
    "import csv\n",
    "\n",
    "input1 = input()\n",
    "\n",
    "with open(input1, \"r\", newline =\"\") as csvfile:\n",
    "    reader = csv.reader(csvfile)\n",
    "    row1 = next(reader, None)\n",
    "    row2 = next(reader, None)\n",
    "\n",
    "    if row1 is None or row2 is None:\n",
    "        print(\"Error\")\n",
    "\n",
    "dict1 = {}\n",
    "\n",
    "for i in range(0, len(row1), 2):\n",
    "    if (i + 1) < len(row1):\n",
    "        dict1[row1[i].strip()] = row1[i + 1].strip()\n",
    "\n",
    "print(dict1)\n",
    "\n",
    "dict2 = {}\n",
    "\n",
    "for i in range(0, len(row2), 2):\n",
    "    if (i + 1) < len(row2):\n",
    "        dict2[row2[i].strip()] = row2[i + 1].strip()\n",
    "\n",
    "print(dict2)"
   ]
  },
  {
   "cell_type": "code",
   "execution_count": null,
   "id": "be701837",
   "metadata": {},
   "outputs": [
    {
     "name": "stdout",
     "output_type": "stream",
     "text": [
      "6\n",
      "False\n"
     ]
    }
   ],
   "source": [
    "# 34.14 Math Module\n",
    "# Create a solution that accepts an integer input. Import the built-in module \"math\" and use its factorial() method to calculate the factorial of the integer input.\n",
    "# Output the value of the factorial, as well as a Boolean value identifying whether the factorial output is greater than 100.\n",
    "\n",
    "import math\n",
    "\n",
    "input1 = int(input())\n",
    "\n",
    "f_value = math.factorial(input1)\n",
    "\n",
    "if f_value > 100:\n",
    "    Boolean_value = True\n",
    "else:\n",
    "    Boolean_value = False\n",
    "\n",
    "print(f'{f_value}\\n{Boolean_value}')\n",
    "\n",
    "\n",
    "# factorial_value\n",
    "# Boolean_value\n",
    "\n",
    "#import math module and call factorial()\n",
    "#solution accepts integer input\n",
    "#solution outputs the factorial of the integer input \n",
    "#solution outputs Boolean identification of whether the factorial is >100\n",
    "\n",
    "\n"
   ]
  },
  {
   "cell_type": "code",
   "execution_count": null,
   "id": "c6f9c5e0",
   "metadata": {},
   "outputs": [],
   "source": [
    "# * 34.15 Import custom module\n",
    "\n",
    "# Create a solution that accpets an integer input representing the age of a pig.\n",
    "# Import the existing module \"pigAge\" and use its pre-built pigAge_converter() function to calculate the human equivalent age of a pig.\n",
    "# A year in a pig's life is equivalent to five years in a human's life. Output the human equivalent age of a pig.\n",
    "# input_pig_age is converted_pig_age in human years\n",
    "\n",
    "import pigAge\n",
    "\n",
    "input1 = int(input())\n",
    "\n",
    "human_age = pigAge.pigAge_converter(input1)\n",
    "\n",
    "print(f'{input1} is {human_age} in human years ')\n",
    "\n"
   ]
  }
 ],
 "metadata": {
  "kernelspec": {
   "display_name": "Python 3",
   "language": "python",
   "name": "python3"
  },
  "language_info": {
   "codemirror_mode": {
    "name": "ipython",
    "version": 3
   },
   "file_extension": ".py",
   "mimetype": "text/x-python",
   "name": "python",
   "nbconvert_exporter": "python",
   "pygments_lexer": "ipython3",
   "version": "3.13.3"
  }
 },
 "nbformat": 4,
 "nbformat_minor": 5
}
