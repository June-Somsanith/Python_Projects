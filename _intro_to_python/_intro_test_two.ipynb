{
 "cells": [
  {
   "cell_type": "code",
   "execution_count": null,
   "id": "f78cf529",
   "metadata": {},
   "outputs": [],
   "source": [
    "# *** 34.1 Assign variables, mathematical operations\n",
    "\n",
    "# Create a solution that accepts three integer inputs representing the number of times an employee travels to a job site.\n",
    "# Output the total distance traveled to two decimal places given the following miles per employee commute to the job site. Output the total distance traveled to two decimal places given the following miles per employee commute to the job site:\n",
    "# Employee A: 15.62 miles\n",
    "# Employee B: 41.85 miles\n",
    "# Employee C: 32.67 miles\n",
    "\n",
    "# output: Distance: total_miles_traveled miles"
   ]
  },
  {
   "cell_type": "code",
   "execution_count": null,
   "id": "05e20dac",
   "metadata": {},
   "outputs": [],
   "source": [
    "# *** 34.2 Assign variables, modulus operator (%)\n",
    "\n",
    "# Create a solution that accepts an integer input representing any number of ounces. Output the converted total number of tons, pounds, and remaining ounces based on the input ounces value. There are 16 ounces in a pound and 2,000 pounds in a ton.\n",
    "\n",
    "# output: Tons: value_1\n",
    "# Pounds: value_2\n",
    "# Ounces: value_3\n",
    "\n"
   ]
  },
  {
   "cell_type": "code",
   "execution_count": 17,
   "id": "0d007983",
   "metadata": {},
   "outputs": [
    {
     "name": "stdout",
     "output_type": "stream",
     "text": [
      "Element -1: dict\n"
     ]
    }
   ],
   "source": [
    "# *** 34.3 Formatted output of data type\n",
    "\n",
    "# Create a solution that accepts an integer input representing the index value for any of hte five elements in the following list:\n",
    "# various_data_types = [516, 112.49, True, \"meow\", (\"Western\", \"Governors\", \"University\"), {\"apple\": 1, \"pear\": 5}]\n",
    "#Using the built-in function type() and getting its name by using the .name attribute, output data type (e.g., int”, “float”, “bool”, “str”) based on the input index value of the list element.\n",
    "\n",
    "# output: Element index_value: data_type\n",
    "\n",
    "various_data_types = [516, 112.49, True, \"meow\", (\"Western\", \"Governors\", \"University\"), {\"apple\": 1, \"pear\": 5}]\n",
    "\n",
    "#use built-in function type()\n",
    "#get name by using the built-in attribute __name__\n",
    "#solution accepts integer input representing list element index\n",
    "#solution outputs data type of list element based on input index value\n",
    "\n",
    "index_value = int(input())\n",
    "\n",
    "if index_value < len(various_data_types):\n",
    "    element = various_data_types[index_value]\n",
    "    data_type = type(element).__name__\n",
    "\n",
    "print(f'Element {index_value}: {data_type}')\n"
   ]
  },
  {
   "cell_type": "code",
   "execution_count": 9,
   "id": "8bb549d7",
   "metadata": {},
   "outputs": [
    {
     "name": "stdout",
     "output_type": "stream",
     "text": [
      "String: 12354\n"
     ]
    }
   ],
   "source": [
    "# *** 34.5 Data type conversions\n",
    "\n",
    "# Create a solution that accepts five integer inputs. Output the sum of the five inputs 3 times, converting the inputs to the requested data type prior to finding the sum.\n",
    "# First output: sum of five inputs maintained as integer values\n",
    "# Second output: sum of five inputs converted to float values\n",
    "# Third output: sum of five inputs converted to string values (concatenate)\n",
    "\n",
    "input1 = int(input())\n",
    "input2 = int(input())\n",
    "input3 = int(input())\n",
    "input4 = int(input())\n",
    "input5 = int(input())\n",
    "\n",
    "# Integer: integer_sum_value\n",
    "\n",
    "# Float: float_sum_value\n",
    "\n",
    "# String: string_sum_value\n",
    "\n",
    "str_inputs = [input1, input2, input3, input4, input5]\n",
    "\n",
    "s_s_v = \"\".join(str(num) for num in str_inputs)\n",
    "\n",
    "print(f'String: {s_s_v}')\n",
    "\n"
   ]
  },
  {
   "cell_type": "code",
   "execution_count": 4,
   "id": "b380a08a",
   "metadata": {},
   "outputs": [
    {
     "name": "stdout",
     "output_type": "stream",
     "text": [
      "Greater than max? True\n"
     ]
    }
   ],
   "source": [
    "# *** 34.7 Comparison operations with Boolean Values\n",
    "\n",
    "# Create a solution that accepts an integer input to compare against the following list:\n",
    "\n",
    "# predef_list = [4, -27, 15, 33, -10]\n",
    "\n",
    "# Greater Than Max? Boolean_value\n",
    "\n",
    "predef_list = [4, -27, 15, 33, -10]\n",
    "\n",
    "input1 = int(input())\n",
    "\n",
    "predef_max = max(predef_list)\n",
    "\n",
    "if input1 <= predef_max:\n",
    "    B_v = False\n",
    "else:\n",
    "    B_v = True\n",
    "\n",
    "print(f'Greater than max? {B_v}')\n"
   ]
  },
  {
   "cell_type": "code",
   "execution_count": 8,
   "id": "bcb50b4e",
   "metadata": {},
   "outputs": [
    {
     "name": "stdout",
     "output_type": "stream",
     "text": [
      "Total cost: $150.53\n"
     ]
    }
   ],
   "source": [
    "# 34.10 Dictionary Key Search\n",
    "\n",
    "# Create a solution that accepts an integer input identifying how many shares of stock are to be purchased from the Old Town Stock Exchange, followed by an equivalent number of string inputs represnting the stock selecitons.\n",
    "# Output the total cost of the purchased shares of stock to two decimal places.\n",
    "\n",
    "stocks = {'TSLA': 912.86 , 'BBBY': 24.84, 'AAPL': 174.26, 'SOFI': 6.92, 'KIRK': 8.72, 'AURA': 22.12, 'AMZN': 141.28, 'EMBK': 12.29, 'LVLU': 2.33}\n",
    "\n",
    "n_o_s = int(input())\n",
    "\n",
    "c_o_s = 0.0\n",
    "\n",
    "for _ in range(n_o_s):\n",
    "    selected = input()\n",
    "    if selected in stocks:\n",
    "        c_o_s += stocks[selected]\n",
    "\n",
    "print(f'Total cost: ${c_o_s:.2f}')\n"
   ]
  },
  {
   "cell_type": "code",
   "execution_count": null,
   "id": "6a98ed2d",
   "metadata": {},
   "outputs": [],
   "source": [
    "# 34.11 Dictionary conditional logic\n",
    "\n",
    "# Create a solution that accepts a string input representing a grocery store item and an integer input identifying the number of items purchased on a recent visit. \n",
    "# The following dictionary \"purchase\" lists available items as the key with the cost per item as the value.\n",
    "# purchase = {\"bananas\": 1.85, \"steak\": 19.99, \"cookies\": 4.52, \"celery\": 2.81, \"milk\": 4.34}\n",
    "# Additionally,\n",
    "\n",
    "# If fewer than ten items are purchased, the price is the full cost per item.\n",
    "# If between ten and twenty items (inclusive) are purchased, the purchase gets a 5% discount.\n",
    "# If twenty-one or more items are purchased, the purchase gets a 10% discount.\n",
    "# Output the chosen item and total cost of the purchase to two decimal places.\n",
    "# item_purchased $total_purchase_cost\n",
    "\n",
    "purchase = {\"bananas\": 1.85, \"steak\": 19.99, \"cookies\": 4.52, \"celery\": 2.81, \"milk\": 4.34}\n"
   ]
  },
  {
   "cell_type": "code",
   "execution_count": 7,
   "id": "b3fe9958",
   "metadata": {},
   "outputs": [
    {
     "name": "stdout",
     "output_type": "stream",
     "text": [
      "{'a': '100', 'b': '200', 'c': '300'}\n",
      "{'bananas': '1.85', 'steak': '19.99', 'cookies': '4.52'}\n"
     ]
    }
   ],
   "source": [
    "# * 34.13 Manipulate CSV Files\n",
    "\n",
    "# Creat a solution that accepts an input identifying the name of a CSV file, for example, \"input1.csv\". Each file contains two rows of comma-separated values.\n",
    "# Import the built-in module csv and use its open() function and reader() method to create a dictionary of key:value pairs for each row of comma-separated values in the specified field.\n",
    "# Output the file contents as two dictionaries\n",
    "\n",
    "import csv\n",
    "\n",
    "input1 = input()\n",
    "\n",
    "with open(input1, \"r\", newline = \"\") as csvfile:\n",
    "    reader = csv.reader(csvfile)\n",
    "    row1 = next(reader, None)\n",
    "    row2 = next(reader, None)\n",
    "\n",
    "    if row1 is None or row2 is None:\n",
    "        print(\"Error\")\n",
    "\n",
    "dict1 = {}\n",
    "\n",
    "for i in range(0, len(row1), 2):\n",
    "    if i + 1 < len(row1):\n",
    "        dict1[row1[i].strip()] = row1[i + 1].strip()\n",
    "\n",
    "print(dict1)\n",
    "\n",
    "dict2 = {}\n",
    "\n",
    "for i in range(0, len(row2), 2):\n",
    "    if i + 1 < len(row2):\n",
    "        dict2[row2[i].strip()] = row2[i + 1].strip()\n",
    "\n",
    "print(dict2)\n",
    "\n"
   ]
  },
  {
   "cell_type": "code",
   "execution_count": null,
   "id": "d40e0d73",
   "metadata": {},
   "outputs": [],
   "source": [
    "# * 34.15 Import custom module\n",
    "\n",
    "# Create a solution that accpets an integer input representing the age of a pig.\n",
    "# Import the existing module \"pigAge\" and use its pre-built pigAge_converter() function to calculate the human equivalent age of a pig.\n",
    "# A year in a pig's life is equivalent to five years in a human's life. Output the human equivalent age of a pig.\n",
    "# input_pig_age is converted_pig_age in human years"
   ]
  }
 ],
 "metadata": {
  "kernelspec": {
   "display_name": "Python 3",
   "language": "python",
   "name": "python3"
  },
  "language_info": {
   "codemirror_mode": {
    "name": "ipython",
    "version": 3
   },
   "file_extension": ".py",
   "mimetype": "text/x-python",
   "name": "python",
   "nbconvert_exporter": "python",
   "pygments_lexer": "ipython3",
   "version": "3.13.3"
  }
 },
 "nbformat": 4,
 "nbformat_minor": 5
}
